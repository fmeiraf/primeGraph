{
 "cells": [
  {
   "cell_type": "code",
   "execution_count": 2,
   "metadata": {},
   "outputs": [],
   "source": [
    "import sys\n",
    "import os\n",
    "sys.path.append(os.path.abspath(\"..\"))\n",
    "\n",
    "from primeGraph.models import GraphState\n",
    "from primeGraph.buffer import History\n",
    "from primeGraph import Graph, START, END\n",
    "from primeGraph.graph.engine import GraphExecutor\n",
    "import time\n",
    "\n",
    "from rich import print as rprint\n",
    "\n",
    "import logging\n",
    "\n",
    "logging.basicConfig(\n",
    "    level=logging.DEBUG,\n",
    "    format=\"%(asctime)s - %(name)s - %(levelname)s - %(message)s\"\n",
    ")\n",
    "\n",
    "class StateForTestWithHistory(GraphState):\n",
    "    execution_order: History[str]\n",
    "\n",
    "\n",
    "def test_graph(storage=None):\n",
    "    state = StateForTestWithHistory(execution_order=[])\n",
    "    graph = Graph(state=state, checkpoint_storage=storage)\n",
    "\n",
    "    @graph.node()\n",
    "    def task1(state):\n",
    "        time.sleep(1)\n",
    "        print(\"task1\")\n",
    "        return {\"execution_order\": \"task1\"}\n",
    "\n",
    "    @graph.node(interrupt=\"after\")\n",
    "    def task2(state):\n",
    "        time.sleep(2)\n",
    "        print(\"task2\")\n",
    "        return {\"execution_order\": \"task2\"}\n",
    "\n",
    "    @graph.node()\n",
    "    def task3(state):\n",
    "        time.sleep(2)\n",
    "        print(\"task3\")\n",
    "        return {\"execution_order\": \"task3\"}\n",
    "\n",
    "    @graph.node()\n",
    "    def task4(state):\n",
    "        time.sleep(1)\n",
    "        print(\"task4\")\n",
    "        return {\"execution_order\": \"task4\"}\n",
    "    \n",
    "    @graph.node()\n",
    "    def task5(state):\n",
    "        time.sleep(1)\n",
    "        print(\"task5\")\n",
    "        return {\"execution_order\": \"task5\"}\n",
    "    \n",
    "    @graph.node()\n",
    "    def task6(state):\n",
    "        time.sleep(1)\n",
    "        print(\"task6\")\n",
    "        return {\"execution_order\": \"task6\"}\n",
    "\n",
    "    # Create parallel paths\n",
    "    graph.add_edge(START, \"task1\")\n",
    "    graph.add_edge(\"task1\", \"task2\")\n",
    "    graph.add_edge(\"task1\", \"task3\")\n",
    "    graph.add_edge(\"task2\", \"task4\")\n",
    "    graph.add_edge(\"task3\", \"task5\")\n",
    "    graph.add_edge(\"task4\", \"task6\")\n",
    "    graph.add_edge(\"task5\", \"task6\")\n",
    "    graph.add_edge(\"task6\", END)\n",
    "\n",
    "    graph.compile()\n",
    "\n",
    "    return graph\n"
   ]
  },
  {
   "cell_type": "code",
   "execution_count": null,
   "metadata": {},
   "outputs": [],
   "source": [
    "from primeGraph.checkpoint.local_storage import LocalStorage\n",
    "\n",
    "graph = test_graph(storage=LocalStorage())\n",
    "graph.visualize()"
   ]
  },
  {
   "cell_type": "code",
   "execution_count": null,
   "metadata": {},
   "outputs": [],
   "source": [
    "import asyncio\n",
    "\n",
    "# In your notebook\n",
    "executor = GraphExecutor(graph)\n",
    "task = asyncio.create_task(executor.execute())  # Start execution\n",
    "\n",
    "# Wait a bit for it to hit the interrupt\n",
    "await asyncio.sleep(10)  \n",
    "\n",
    "# Then call resume to continue\n",
    "# executor.resume()"
   ]
  },
  {
   "cell_type": "code",
   "execution_count": 4,
   "metadata": {},
   "outputs": [],
   "source": [
    "executor.resume()"
   ]
  },
  {
   "cell_type": "code",
   "execution_count": null,
   "metadata": {},
   "outputs": [],
   "source": [
    "rprint(graph.checkpoint_storage._storage)"
   ]
  },
  {
   "cell_type": "code",
   "execution_count": 4,
   "metadata": {},
   "outputs": [],
   "source": [
    "last_checkpoint = list(graph.checkpoint_storage._storage[list(graph.checkpoint_storage._storage.keys())[0]].keys())[-1]\n",
    "last_checkpoint_state = graph.checkpoint_storage._storage[list(graph.checkpoint_storage._storage.keys())[0]][last_checkpoint]\n",
    "\n",
    "executor = GraphExecutor(graph)\n",
    "\n",
    "executor.load_full_state(last_checkpoint_state.engine_state)"
   ]
  },
  {
   "cell_type": "code",
   "execution_count": null,
   "metadata": {},
   "outputs": [],
   "source": [
    "executor.resume()\n",
    "await executor.execute()"
   ]
  },
  {
   "cell_type": "code",
   "execution_count": null,
   "metadata": {},
   "outputs": [],
   "source": [
    "graph.chain_status"
   ]
  }
 ],
 "metadata": {
  "kernelspec": {
   "display_name": ".venv",
   "language": "python",
   "name": "python3"
  },
  "language_info": {
   "codemirror_mode": {
    "name": "ipython",
    "version": 3
   },
   "file_extension": ".py",
   "mimetype": "text/x-python",
   "name": "python",
   "nbconvert_exporter": "python",
   "pygments_lexer": "ipython3",
   "version": "3.11.11"
  }
 },
 "nbformat": 4,
 "nbformat_minor": 2
}
