{
 "cells": [
  {
   "cell_type": "code",
   "execution_count": 3,
   "metadata": {},
   "outputs": [
    {
     "name": "stderr",
     "output_type": "stream",
     "text": [
      "DEBUG:tiny_graph.graph.executable:Executing node: initialize_process\n",
      "DEBUG:tiny_graph.graph.executable:Executing task in node: initialize_process\n"
     ]
    },
    {
     "name": "stdout",
     "output_type": "stream",
     "text": [
      "Starting execution...\n",
      "Using chain_id: process_workflow_v1\n"
     ]
    },
    {
     "name": "stderr",
     "output_type": "stream",
     "text": [
      "INFO:tiny_graph.checkpoint.storage.local_storage:Checkpoint 'process_workflow_v1_f544fe10-404b-41c8-8e88-61f3aa87beff' saved in memory.\n",
      "DEBUG:tiny_graph.graph.executable:State updated after node: initialize_process\n",
      "DEBUG:tiny_graph.graph.executable:Executing node: process_data_1\n",
      "DEBUG:tiny_graph.graph.executable:Executing task in node: process_data_1\n",
      "INFO:tiny_graph.checkpoint.storage.local_storage:Checkpoint 'process_workflow_v1_406286ae-b170-4a7b-a329-4819473b86c1' saved in memory.\n",
      "DEBUG:tiny_graph.graph.executable:State updated after node: process_data_1\n",
      "DEBUG:tiny_graph.graph.executable:Executing node: process_data_2\n",
      "DEBUG:tiny_graph.graph.executable:Executing task in node: process_data_2\n",
      "INFO:tiny_graph.checkpoint.storage.local_storage:Checkpoint 'process_workflow_v1_862203f3-082f-467a-b2d9-e96aa3c6cb87' saved in memory.\n",
      "DEBUG:tiny_graph.graph.executable:State updated after node: process_data_2\n",
      "DEBUG:tiny_graph.graph.executable:Executing node: finalize\n",
      "DEBUG:tiny_graph.graph.executable:Executing task in node: finalize\n",
      "INFO:tiny_graph.checkpoint.storage.local_storage:Checkpoint 'process_workflow_v1_3cb99c3b-933b-4f8c-9243-d90ded2c6bea' saved in memory.\n",
      "DEBUG:tiny_graph.graph.executable:State updated after node: finalize\n"
     ]
    },
    {
     "name": "stdout",
     "output_type": "stream",
     "text": [
      "\n",
      "Execution completed!\n",
      "Final status: completed\n",
      "Results history: [{'accuracy': 0.85, 'step': 1.0}, {'accuracy': 0.92, 'step': 2.0}]\n",
      "\n",
      "Verifying final state from checkpoint:\n"
     ]
    },
    {
     "data": {
      "text/html": [
       "<pre style=\"white-space:pre;overflow-x:auto;line-height:normal;font-family:Menlo,'DejaVu Sans Mono',consolas,'Courier New',monospace\">Checkpoints: <span style=\"color: #800080; text-decoration-color: #800080; font-weight: bold\">defaultdict</span><span style=\"font-weight: bold\">(&lt;</span><span style=\"color: #ff00ff; text-decoration-color: #ff00ff; font-weight: bold\">class</span><span style=\"color: #000000; text-decoration-color: #000000\"> </span><span style=\"color: #008000; text-decoration-color: #008000\">'dict'</span><span style=\"color: #000000; text-decoration-color: #000000\">&gt;, </span><span style=\"color: #000000; text-decoration-color: #000000; font-weight: bold\">{</span><span style=\"color: #008000; text-decoration-color: #008000\">'process_workflow_v1'</span><span style=\"color: #000000; text-decoration-color: #000000\">: </span>\n",
       "<span style=\"color: #000000; text-decoration-color: #000000; font-weight: bold\">{</span><span style=\"color: #008000; text-decoration-color: #008000\">'process_workflow_v1_f544fe10-404b-41c8-8e88-61f3aa87beff'</span><span style=\"color: #000000; text-decoration-color: #000000\">: </span><span style=\"color: #000000; text-decoration-color: #000000; font-weight: bold\">{</span><span style=\"color: #008000; text-decoration-color: #008000\">'chain_id'</span><span style=\"color: #000000; text-decoration-color: #000000\">: </span><span style=\"color: #008000; text-decoration-color: #008000\">'process_workflow_v1'</span><span style=\"color: #000000; text-decoration-color: #000000\">, </span><span style=\"color: #008000; text-decoration-color: #008000\">'model_class'</span><span style=\"color: #000000; text-decoration-color: #000000\">: </span>\n",
       "<span style=\"color: #000000; text-decoration-color: #000000\">&lt;class </span><span style=\"color: #008000; text-decoration-color: #008000\">'__main__.ProcessState'</span><span style=\"color: #000000; text-decoration-color: #000000\">&gt;, </span><span style=\"color: #008000; text-decoration-color: #008000\">'model_version'</span><span style=\"color: #000000; text-decoration-color: #000000\">: </span><span style=\"color: #008000; text-decoration-color: #008000\">'2c56039250db38e7d4c79d6f205816f8'</span><span style=\"color: #000000; text-decoration-color: #000000\">, </span><span style=\"color: #008000; text-decoration-color: #008000\">'data'</span><span style=\"color: #000000; text-decoration-color: #000000\">: </span>\n",
       "<span style=\"color: #008000; text-decoration-color: #008000\">'{\"version\":\"2c56039250db38e7d4c79d6f205816f8\",\"status\":\"initializing\",\"results\":{}}'</span><span style=\"color: #000000; text-decoration-color: #000000\">, </span><span style=\"color: #008000; text-decoration-color: #008000\">'timestamp'</span><span style=\"color: #000000; text-decoration-color: #000000\">: </span>\n",
       "<span style=\"color: #800080; text-decoration-color: #800080; font-weight: bold\">datetime.datetime</span><span style=\"color: #000000; text-decoration-color: #000000; font-weight: bold\">(</span><span style=\"color: #008080; text-decoration-color: #008080; font-weight: bold\">2024</span><span style=\"color: #000000; text-decoration-color: #000000\">, </span><span style=\"color: #008080; text-decoration-color: #008080; font-weight: bold\">11</span><span style=\"color: #000000; text-decoration-color: #000000\">, </span><span style=\"color: #008080; text-decoration-color: #008080; font-weight: bold\">17</span><span style=\"color: #000000; text-decoration-color: #000000\">, </span><span style=\"color: #008080; text-decoration-color: #008080; font-weight: bold\">12</span><span style=\"color: #000000; text-decoration-color: #000000\">, </span><span style=\"color: #008080; text-decoration-color: #008080; font-weight: bold\">11</span><span style=\"color: #000000; text-decoration-color: #000000\">, </span><span style=\"color: #008080; text-decoration-color: #008080; font-weight: bold\">53</span><span style=\"color: #000000; text-decoration-color: #000000\">, </span><span style=\"color: #008080; text-decoration-color: #008080; font-weight: bold\">726645</span><span style=\"color: #000000; text-decoration-color: #000000; font-weight: bold\">)}</span><span style=\"color: #000000; text-decoration-color: #000000\">, </span><span style=\"color: #008000; text-decoration-color: #008000\">'process_workflow_v1_406286ae-b170-4a7b-a329-4819473b86c1'</span><span style=\"color: #000000; text-decoration-color: #000000\">: </span>\n",
       "<span style=\"color: #000000; text-decoration-color: #000000; font-weight: bold\">{</span><span style=\"color: #008000; text-decoration-color: #008000\">'chain_id'</span><span style=\"color: #000000; text-decoration-color: #000000\">: </span><span style=\"color: #008000; text-decoration-color: #008000\">'process_workflow_v1'</span><span style=\"color: #000000; text-decoration-color: #000000\">, </span><span style=\"color: #008000; text-decoration-color: #008000\">'model_class'</span><span style=\"color: #000000; text-decoration-color: #000000\">: &lt;class </span><span style=\"color: #008000; text-decoration-color: #008000\">'__main__.ProcessState'</span><span style=\"color: #000000; text-decoration-color: #000000\">&gt;, </span><span style=\"color: #008000; text-decoration-color: #008000\">'model_version'</span><span style=\"color: #000000; text-decoration-color: #000000\">: </span>\n",
       "<span style=\"color: #008000; text-decoration-color: #008000\">'2c56039250db38e7d4c79d6f205816f8'</span><span style=\"color: #000000; text-decoration-color: #000000\">, </span><span style=\"color: #008000; text-decoration-color: #008000\">'data'</span><span style=\"color: #000000; text-decoration-color: #000000\">: </span>\n",
       "<span style=\"color: #008000; text-decoration-color: #008000\">'{\"version\":\"2c56039250db38e7d4c79d6f205816f8\",\"status\":\"processing_1\",\"results\":[{\"accuracy\":0.85,\"step\":1.0}]}'</span><span style=\"color: #000000; text-decoration-color: #000000\">, </span>\n",
       "<span style=\"color: #008000; text-decoration-color: #008000\">'timestamp'</span><span style=\"color: #000000; text-decoration-color: #000000\">: </span><span style=\"color: #800080; text-decoration-color: #800080; font-weight: bold\">datetime.datetime</span><span style=\"color: #000000; text-decoration-color: #000000; font-weight: bold\">(</span><span style=\"color: #008080; text-decoration-color: #008080; font-weight: bold\">2024</span><span style=\"color: #000000; text-decoration-color: #000000\">, </span><span style=\"color: #008080; text-decoration-color: #008080; font-weight: bold\">11</span><span style=\"color: #000000; text-decoration-color: #000000\">, </span><span style=\"color: #008080; text-decoration-color: #008080; font-weight: bold\">17</span><span style=\"color: #000000; text-decoration-color: #000000\">, </span><span style=\"color: #008080; text-decoration-color: #008080; font-weight: bold\">12</span><span style=\"color: #000000; text-decoration-color: #000000\">, </span><span style=\"color: #008080; text-decoration-color: #008080; font-weight: bold\">11</span><span style=\"color: #000000; text-decoration-color: #000000\">, </span><span style=\"color: #008080; text-decoration-color: #008080; font-weight: bold\">54</span><span style=\"color: #000000; text-decoration-color: #000000\">, </span><span style=\"color: #008080; text-decoration-color: #008080; font-weight: bold\">234150</span><span style=\"color: #000000; text-decoration-color: #000000; font-weight: bold\">)}</span><span style=\"color: #000000; text-decoration-color: #000000\">, </span>\n",
       "<span style=\"color: #008000; text-decoration-color: #008000\">'process_workflow_v1_862203f3-082f-467a-b2d9-e96aa3c6cb87'</span><span style=\"color: #000000; text-decoration-color: #000000\">: </span><span style=\"color: #000000; text-decoration-color: #000000; font-weight: bold\">{</span><span style=\"color: #008000; text-decoration-color: #008000\">'chain_id'</span><span style=\"color: #000000; text-decoration-color: #000000\">: </span><span style=\"color: #008000; text-decoration-color: #008000\">'process_workflow_v1'</span><span style=\"color: #000000; text-decoration-color: #000000\">, </span><span style=\"color: #008000; text-decoration-color: #008000\">'model_class'</span><span style=\"color: #000000; text-decoration-color: #000000\">: </span>\n",
       "<span style=\"color: #000000; text-decoration-color: #000000\">&lt;class </span><span style=\"color: #008000; text-decoration-color: #008000\">'__main__.ProcessState'</span><span style=\"color: #000000; text-decoration-color: #000000\">&gt;, </span><span style=\"color: #008000; text-decoration-color: #008000\">'model_version'</span><span style=\"color: #000000; text-decoration-color: #000000\">: </span><span style=\"color: #008000; text-decoration-color: #008000\">'2c56039250db38e7d4c79d6f205816f8'</span><span style=\"color: #000000; text-decoration-color: #000000\">, </span><span style=\"color: #008000; text-decoration-color: #008000\">'data'</span><span style=\"color: #000000; text-decoration-color: #000000\">: </span>\n",
       "<span style=\"color: #008000; text-decoration-color: #008000\">'{\"version\":\"2c56039250db38e7d4c79d6f205816f8\",\"status\":\"processing_2\",\"results\":[{\"accuracy\":0.85,\"step\":1.0},{\"ac</span>\n",
       "<span style=\"color: #008000; text-decoration-color: #008000\">curacy\":0.92,\"step\":2.0}]}'</span><span style=\"color: #000000; text-decoration-color: #000000\">, </span><span style=\"color: #008000; text-decoration-color: #008000\">'timestamp'</span><span style=\"color: #000000; text-decoration-color: #000000\">: </span><span style=\"color: #800080; text-decoration-color: #800080; font-weight: bold\">datetime.datetime</span><span style=\"color: #000000; text-decoration-color: #000000; font-weight: bold\">(</span><span style=\"color: #008080; text-decoration-color: #008080; font-weight: bold\">2024</span><span style=\"color: #000000; text-decoration-color: #000000\">, </span><span style=\"color: #008080; text-decoration-color: #008080; font-weight: bold\">11</span><span style=\"color: #000000; text-decoration-color: #000000\">, </span><span style=\"color: #008080; text-decoration-color: #008080; font-weight: bold\">17</span><span style=\"color: #000000; text-decoration-color: #000000\">, </span><span style=\"color: #008080; text-decoration-color: #008080; font-weight: bold\">12</span><span style=\"color: #000000; text-decoration-color: #000000\">, </span><span style=\"color: #008080; text-decoration-color: #008080; font-weight: bold\">11</span><span style=\"color: #000000; text-decoration-color: #000000\">, </span><span style=\"color: #008080; text-decoration-color: #008080; font-weight: bold\">54</span><span style=\"color: #000000; text-decoration-color: #000000\">, </span><span style=\"color: #008080; text-decoration-color: #008080; font-weight: bold\">742470</span><span style=\"color: #000000; text-decoration-color: #000000; font-weight: bold\">)}</span><span style=\"color: #000000; text-decoration-color: #000000\">, </span>\n",
       "<span style=\"color: #008000; text-decoration-color: #008000\">'process_workflow_v1_3cb99c3b-933b-4f8c-9243-d90ded2c6bea'</span><span style=\"color: #000000; text-decoration-color: #000000\">: </span><span style=\"color: #000000; text-decoration-color: #000000; font-weight: bold\">{</span><span style=\"color: #008000; text-decoration-color: #008000\">'chain_id'</span><span style=\"color: #000000; text-decoration-color: #000000\">: </span><span style=\"color: #008000; text-decoration-color: #008000\">'process_workflow_v1'</span><span style=\"color: #000000; text-decoration-color: #000000\">, </span><span style=\"color: #008000; text-decoration-color: #008000\">'model_class'</span><span style=\"color: #000000; text-decoration-color: #000000\">: </span>\n",
       "<span style=\"color: #000000; text-decoration-color: #000000\">&lt;class </span><span style=\"color: #008000; text-decoration-color: #008000\">'__main__.ProcessState'</span><span style=\"font-weight: bold\">&gt;</span>, <span style=\"color: #008000; text-decoration-color: #008000\">'model_version'</span>: <span style=\"color: #008000; text-decoration-color: #008000\">'2c56039250db38e7d4c79d6f205816f8'</span>, <span style=\"color: #008000; text-decoration-color: #008000\">'data'</span>: \n",
       "<span style=\"color: #008000; text-decoration-color: #008000\">'{\"version\":\"2c56039250db38e7d4c79d6f205816f8\",\"status\":\"completed\",\"results\":[{\"accuracy\":0.85,\"step\":1.0},{\"accur</span>\n",
       "<span style=\"color: #008000; text-decoration-color: #008000\">acy\":0.92,\"step\":2.0}]}'</span>, <span style=\"color: #008000; text-decoration-color: #008000\">'timestamp'</span>: <span style=\"color: #800080; text-decoration-color: #800080; font-weight: bold\">datetime.datetime</span><span style=\"font-weight: bold\">(</span><span style=\"color: #008080; text-decoration-color: #008080; font-weight: bold\">2024</span>, <span style=\"color: #008080; text-decoration-color: #008080; font-weight: bold\">11</span>, <span style=\"color: #008080; text-decoration-color: #008080; font-weight: bold\">17</span>, <span style=\"color: #008080; text-decoration-color: #008080; font-weight: bold\">12</span>, <span style=\"color: #008080; text-decoration-color: #008080; font-weight: bold\">11</span>, <span style=\"color: #008080; text-decoration-color: #008080; font-weight: bold\">55</span>, <span style=\"color: #008080; text-decoration-color: #008080; font-weight: bold\">255218</span><span style=\"font-weight: bold\">)}}})</span>\n",
       "</pre>\n"
      ],
      "text/plain": [
       "Checkpoints: \u001b[1;35mdefaultdict\u001b[0m\u001b[1m(\u001b[0m\u001b[1m<\u001b[0m\u001b[1;95mclass\u001b[0m\u001b[39m \u001b[0m\u001b[32m'dict'\u001b[0m\u001b[39m>, \u001b[0m\u001b[1;39m{\u001b[0m\u001b[32m'process_workflow_v1'\u001b[0m\u001b[39m: \u001b[0m\n",
       "\u001b[1;39m{\u001b[0m\u001b[32m'process_workflow_v1_f544fe10-404b-41c8-8e88-61f3aa87beff'\u001b[0m\u001b[39m: \u001b[0m\u001b[1;39m{\u001b[0m\u001b[32m'chain_id'\u001b[0m\u001b[39m: \u001b[0m\u001b[32m'process_workflow_v1'\u001b[0m\u001b[39m, \u001b[0m\u001b[32m'model_class'\u001b[0m\u001b[39m: \u001b[0m\n",
       "\u001b[39m<class \u001b[0m\u001b[32m'__main__.ProcessState'\u001b[0m\u001b[39m>, \u001b[0m\u001b[32m'model_version'\u001b[0m\u001b[39m: \u001b[0m\u001b[32m'2c56039250db38e7d4c79d6f205816f8'\u001b[0m\u001b[39m, \u001b[0m\u001b[32m'data'\u001b[0m\u001b[39m: \u001b[0m\n",
       "\u001b[32m'\u001b[0m\u001b[32m{\u001b[0m\u001b[32m\"version\":\"2c56039250db38e7d4c79d6f205816f8\",\"status\":\"initializing\",\"results\":\u001b[0m\u001b[32m{\u001b[0m\u001b[32m}\u001b[0m\u001b[32m}\u001b[0m\u001b[32m'\u001b[0m\u001b[39m, \u001b[0m\u001b[32m'timestamp'\u001b[0m\u001b[39m: \u001b[0m\n",
       "\u001b[1;35mdatetime.datetime\u001b[0m\u001b[1;39m(\u001b[0m\u001b[1;36m2024\u001b[0m\u001b[39m, \u001b[0m\u001b[1;36m11\u001b[0m\u001b[39m, \u001b[0m\u001b[1;36m17\u001b[0m\u001b[39m, \u001b[0m\u001b[1;36m12\u001b[0m\u001b[39m, \u001b[0m\u001b[1;36m11\u001b[0m\u001b[39m, \u001b[0m\u001b[1;36m53\u001b[0m\u001b[39m, \u001b[0m\u001b[1;36m726645\u001b[0m\u001b[1;39m)\u001b[0m\u001b[1;39m}\u001b[0m\u001b[39m, \u001b[0m\u001b[32m'process_workflow_v1_406286ae-b170-4a7b-a329-4819473b86c1'\u001b[0m\u001b[39m: \u001b[0m\n",
       "\u001b[1;39m{\u001b[0m\u001b[32m'chain_id'\u001b[0m\u001b[39m: \u001b[0m\u001b[32m'process_workflow_v1'\u001b[0m\u001b[39m, \u001b[0m\u001b[32m'model_class'\u001b[0m\u001b[39m: <class \u001b[0m\u001b[32m'__main__.ProcessState'\u001b[0m\u001b[39m>, \u001b[0m\u001b[32m'model_version'\u001b[0m\u001b[39m: \u001b[0m\n",
       "\u001b[32m'2c56039250db38e7d4c79d6f205816f8'\u001b[0m\u001b[39m, \u001b[0m\u001b[32m'data'\u001b[0m\u001b[39m: \u001b[0m\n",
       "\u001b[32m'\u001b[0m\u001b[32m{\u001b[0m\u001b[32m\"version\":\"2c56039250db38e7d4c79d6f205816f8\",\"status\":\"processing_1\",\"results\":\u001b[0m\u001b[32m[\u001b[0m\u001b[32m{\u001b[0m\u001b[32m\"accuracy\":0.85,\"step\":1.0\u001b[0m\u001b[32m}\u001b[0m\u001b[32m]\u001b[0m\u001b[32m}\u001b[0m\u001b[32m'\u001b[0m\u001b[39m, \u001b[0m\n",
       "\u001b[32m'timestamp'\u001b[0m\u001b[39m: \u001b[0m\u001b[1;35mdatetime.datetime\u001b[0m\u001b[1;39m(\u001b[0m\u001b[1;36m2024\u001b[0m\u001b[39m, \u001b[0m\u001b[1;36m11\u001b[0m\u001b[39m, \u001b[0m\u001b[1;36m17\u001b[0m\u001b[39m, \u001b[0m\u001b[1;36m12\u001b[0m\u001b[39m, \u001b[0m\u001b[1;36m11\u001b[0m\u001b[39m, \u001b[0m\u001b[1;36m54\u001b[0m\u001b[39m, \u001b[0m\u001b[1;36m234150\u001b[0m\u001b[1;39m)\u001b[0m\u001b[1;39m}\u001b[0m\u001b[39m, \u001b[0m\n",
       "\u001b[32m'process_workflow_v1_862203f3-082f-467a-b2d9-e96aa3c6cb87'\u001b[0m\u001b[39m: \u001b[0m\u001b[1;39m{\u001b[0m\u001b[32m'chain_id'\u001b[0m\u001b[39m: \u001b[0m\u001b[32m'process_workflow_v1'\u001b[0m\u001b[39m, \u001b[0m\u001b[32m'model_class'\u001b[0m\u001b[39m: \u001b[0m\n",
       "\u001b[39m<class \u001b[0m\u001b[32m'__main__.ProcessState'\u001b[0m\u001b[39m>, \u001b[0m\u001b[32m'model_version'\u001b[0m\u001b[39m: \u001b[0m\u001b[32m'2c56039250db38e7d4c79d6f205816f8'\u001b[0m\u001b[39m, \u001b[0m\u001b[32m'data'\u001b[0m\u001b[39m: \u001b[0m\n",
       "\u001b[32m'\u001b[0m\u001b[32m{\u001b[0m\u001b[32m\"version\":\"2c56039250db38e7d4c79d6f205816f8\",\"status\":\"processing_2\",\"results\":\u001b[0m\u001b[32m[\u001b[0m\u001b[32m{\u001b[0m\u001b[32m\"accuracy\":0.85,\"step\":1.0\u001b[0m\u001b[32m}\u001b[0m\u001b[32m,\u001b[0m\u001b[32m{\u001b[0m\u001b[32m\"ac\u001b[0m\n",
       "\u001b[32mcuracy\":0.92,\"step\":2.0\u001b[0m\u001b[32m}\u001b[0m\u001b[32m]\u001b[0m\u001b[32m}\u001b[0m\u001b[32m'\u001b[0m\u001b[39m, \u001b[0m\u001b[32m'timestamp'\u001b[0m\u001b[39m: \u001b[0m\u001b[1;35mdatetime.datetime\u001b[0m\u001b[1;39m(\u001b[0m\u001b[1;36m2024\u001b[0m\u001b[39m, \u001b[0m\u001b[1;36m11\u001b[0m\u001b[39m, \u001b[0m\u001b[1;36m17\u001b[0m\u001b[39m, \u001b[0m\u001b[1;36m12\u001b[0m\u001b[39m, \u001b[0m\u001b[1;36m11\u001b[0m\u001b[39m, \u001b[0m\u001b[1;36m54\u001b[0m\u001b[39m, \u001b[0m\u001b[1;36m742470\u001b[0m\u001b[1;39m)\u001b[0m\u001b[1;39m}\u001b[0m\u001b[39m, \u001b[0m\n",
       "\u001b[32m'process_workflow_v1_3cb99c3b-933b-4f8c-9243-d90ded2c6bea'\u001b[0m\u001b[39m: \u001b[0m\u001b[1;39m{\u001b[0m\u001b[32m'chain_id'\u001b[0m\u001b[39m: \u001b[0m\u001b[32m'process_workflow_v1'\u001b[0m\u001b[39m, \u001b[0m\u001b[32m'model_class'\u001b[0m\u001b[39m: \u001b[0m\n",
       "\u001b[39m<class \u001b[0m\u001b[32m'__main__.ProcessState'\u001b[0m\u001b[1m>\u001b[0m, \u001b[32m'model_version'\u001b[0m: \u001b[32m'2c56039250db38e7d4c79d6f205816f8'\u001b[0m, \u001b[32m'data'\u001b[0m: \n",
       "\u001b[32m'\u001b[0m\u001b[32m{\u001b[0m\u001b[32m\"version\":\"2c56039250db38e7d4c79d6f205816f8\",\"status\":\"completed\",\"results\":\u001b[0m\u001b[32m[\u001b[0m\u001b[32m{\u001b[0m\u001b[32m\"accuracy\":0.85,\"step\":1.0\u001b[0m\u001b[32m}\u001b[0m\u001b[32m,\u001b[0m\u001b[32m{\u001b[0m\u001b[32m\"accur\u001b[0m\n",
       "\u001b[32macy\":0.92,\"step\":2.0\u001b[0m\u001b[32m}\u001b[0m\u001b[32m]\u001b[0m\u001b[32m}\u001b[0m\u001b[32m'\u001b[0m, \u001b[32m'timestamp'\u001b[0m: \u001b[1;35mdatetime.datetime\u001b[0m\u001b[1m(\u001b[0m\u001b[1;36m2024\u001b[0m, \u001b[1;36m11\u001b[0m, \u001b[1;36m17\u001b[0m, \u001b[1;36m12\u001b[0m, \u001b[1;36m11\u001b[0m, \u001b[1;36m55\u001b[0m, \u001b[1;36m255218\u001b[0m\u001b[1m)\u001b[0m\u001b[1m}\u001b[0m\u001b[1m}\u001b[0m\u001b[1m}\u001b[0m\u001b[1m)\u001b[0m\n"
      ]
     },
     "metadata": {},
     "output_type": "display_data"
    }
   ],
   "source": [
    "import sys\n",
    "import os\n",
    "\n",
    "sys.path.append(os.path.abspath(\"../..\"))\n",
    "\n",
    "from tiny_graph.graph.executable import Graph\n",
    "from tiny_graph.models.base import GraphState\n",
    "from tiny_graph.buffer.factory import History, LastValue\n",
    "from tiny_graph.checkpoint.storage.local_storage import LocalStorage\n",
    "from tiny_graph.constants import START, END\n",
    "import time\n",
    "from typing import Dict\n",
    "from rich import print as rprint\n",
    "\n",
    "\n",
    "# Define our state model\n",
    "class ProcessState(GraphState):\n",
    "    status: LastValue[str]\n",
    "    results: History[Dict[str, float]]\n",
    "\n",
    "\n",
    "# Initialize state and graph with local storage and chain_id\n",
    "chain_id = \"process_workflow_v1\"\n",
    "state = ProcessState(status=\"\", results={})\n",
    "graph = Graph(state=state, chain_id=chain_id, checkpoint_storage=LocalStorage)\n",
    "\n",
    "\n",
    "# Define processing nodes\n",
    "@graph.node()\n",
    "def initialize_process(state):\n",
    "    time.sleep(0.5)  # Simulate work\n",
    "    return {\"status\": \"initializing\"}\n",
    "\n",
    "\n",
    "@graph.node()\n",
    "def process_data_1(state):\n",
    "    time.sleep(0.5)  # Simulate work\n",
    "    return {\"status\": \"processing_1\", \"results\": {\"accuracy\": 0.85, \"step\": 1.0}}\n",
    "\n",
    "\n",
    "@graph.node()\n",
    "def process_data_2(state):\n",
    "    time.sleep(0.5)  # Simulate work\n",
    "    return {\"status\": \"processing_2\", \"results\": {\"accuracy\": 0.92, \"step\": 2.0}}\n",
    "\n",
    "\n",
    "@graph.node()\n",
    "def finalize(state):\n",
    "    time.sleep(0.5)  # Simulate work\n",
    "    return {\"status\": \"completed\"}\n",
    "\n",
    "\n",
    "# Create the workflow\n",
    "graph.add_edge(START, \"initialize_process\")\n",
    "graph.add_edge(\"initialize_process\", \"process_data_1\")\n",
    "graph.add_edge(\"process_data_1\", \"process_data_2\")\n",
    "graph.add_edge(\"process_data_2\", \"finalize\")\n",
    "graph.add_edge(\"finalize\", END)\n",
    "\n",
    "# Compile and execute\n",
    "graph.compile()\n",
    "\n",
    "\n",
    "def run_workflow():\n",
    "    print(\"Starting execution...\")\n",
    "    print(f\"Using chain_id: {graph.chain_id}\")\n",
    "\n",
    "    # Execute the graph (checkpoints will be automatically saved)\n",
    "    graph.execute()\n",
    "\n",
    "    print(\"\\nExecution completed!\")\n",
    "    print(f\"Final status: {graph.state.status}\")\n",
    "    print(f\"Results history: {graph.state.results}\")\n",
    "\n",
    "    print(\"\\nVerifying final state from checkpoint:\")\n",
    "    rprint(f\"Checkpoints: {graph.checkpoint_storage._storage}\")\n",
    "\n",
    "\n",
    "# Run the example\n",
    "if __name__ == \"__main__\":\n",
    "    run_workflow()"
   ]
  },
  {
   "cell_type": "code",
   "execution_count": null,
   "metadata": {},
   "outputs": [],
   "source": [
    "graph.checkpoint_storage._storage"
   ]
  },
  {
   "cell_type": "code",
   "execution_count": null,
   "metadata": {},
   "outputs": [],
   "source": [
    "state.model_fields.keys()"
   ]
  },
  {
   "cell_type": "code",
   "execution_count": null,
   "metadata": {},
   "outputs": [],
   "source": []
  }
 ],
 "metadata": {
  "kernelspec": {
   "display_name": "tiny-graph",
   "language": "python",
   "name": "python3"
  },
  "language_info": {
   "codemirror_mode": {
    "name": "ipython",
    "version": 3
   },
   "file_extension": ".py",
   "mimetype": "text/x-python",
   "name": "python",
   "nbconvert_exporter": "python",
   "pygments_lexer": "ipython3",
   "version": "3.11.10"
  }
 },
 "nbformat": 4,
 "nbformat_minor": 2
}
