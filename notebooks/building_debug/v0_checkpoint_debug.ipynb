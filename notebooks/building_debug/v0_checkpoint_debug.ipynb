{
 "cells": [
  {
   "cell_type": "code",
   "execution_count": 2,
   "metadata": {},
   "outputs": [],
   "source": [
    "import sys\n",
    "import os\n",
    "import time\n",
    "\n",
    "sys.path.append(os.path.abspath(\"../..\"))"
   ]
  },
  {
   "cell_type": "markdown",
   "metadata": {},
   "source": [
    "### Test 1\n"
   ]
  },
  {
   "cell_type": "code",
   "execution_count": null,
   "metadata": {},
   "outputs": [],
   "source": [
    "from primeGraph.graph.executable import Graph\n",
    "from primeGraph.models.state import GraphState\n",
    "from primeGraph.buffer.factory import History, LastValue\n",
    "from primeGraph.checkpoint.storage.local_storage import LocalStorage\n",
    "from primeGraph.constants import START, END\n",
    "from typing import Dict\n",
    "\n",
    "\n",
    "# Define our state model\n",
    "class ProcessState(GraphState):\n",
    "    status: LastValue[str]\n",
    "    results: History[Dict[str, float]]\n",
    "\n",
    "\n",
    "# Initialize state and graph with local storage and chain_id\n",
    "chain_id = \"process_workflow_v1\"\n",
    "state = ProcessState(status=\"\", results={})\n",
    "storage = LocalStorage()\n",
    "graph = Graph(state=state, checkpoint_storage=storage, chain_id=chain_id)\n",
    "\n",
    "\n",
    "# Define processing nodes\n",
    "@graph.node()\n",
    "def initialize_process(state):\n",
    "    time.sleep(0.5)  # Simulate work\n",
    "    return {\"status\": \"initializing\"}\n",
    "\n",
    "\n",
    "@graph.node()\n",
    "def process_data_1(state):\n",
    "    time.sleep(0.5)  # Simulate work\n",
    "    return {\"status\": \"processing_1\", \"results\": {\"accuracy\": 0.85, \"step\": 1.0}}\n",
    "\n",
    "\n",
    "@graph.node(interrupt=\"after\")\n",
    "def process_data_2(state):\n",
    "    time.sleep(0.5)  # Simulate work\n",
    "    return {\"status\": \"processing_2\", \"results\": {\"accuracy\": 0.92, \"step\": 2.0}}\n",
    "\n",
    "\n",
    "@graph.node()\n",
    "def finalize(state):\n",
    "    time.sleep(0.5)  # Simulate work\n",
    "    return {\"status\": \"completed\"}\n",
    "\n",
    "\n",
    "# Create the workflow\n",
    "graph.add_edge(START, \"initialize_process\")\n",
    "graph.add_edge(\"initialize_process\", \"process_data_1\")\n",
    "graph.add_edge(\"process_data_1\", \"process_data_2\")\n",
    "graph.add_edge(\"process_data_2\", \"finalize\")\n",
    "graph.add_edge(\"finalize\", END)\n",
    "\n",
    "# Compile and execute\n",
    "graph.compile()\n",
    "graph.visualize()"
   ]
  },
  {
   "cell_type": "code",
   "execution_count": null,
   "metadata": {},
   "outputs": [],
   "source": [
    "graph.execute()"
   ]
  },
  {
   "cell_type": "code",
   "execution_count": null,
   "metadata": {},
   "outputs": [],
   "source": [
    "storage.list_checkpoints(chain_id)\n",
    "\n",
    "graph.checkpoint_storage.list_checkpoints(chain_id)"
   ]
  },
  {
   "cell_type": "code",
   "execution_count": null,
   "metadata": {},
   "outputs": [],
   "source": [
    "storage.list_checkpoints(chain_id)"
   ]
  },
  {
   "cell_type": "markdown",
   "metadata": {},
   "source": [
    "### Test 2 (LocalStorage)\n"
   ]
  },
  {
   "cell_type": "code",
   "execution_count": 3,
   "metadata": {},
   "outputs": [
    {
     "name": "stderr",
     "output_type": "stream",
     "text": [
      "DEBUG:graphviz._tools:deprecate positional args: graphviz.backend.piping.pipe(['renderer', 'formatter', 'neato_no_op', 'quiet'])\n",
      "DEBUG:graphviz._tools:deprecate positional args: graphviz.backend.rendering.render(['renderer', 'formatter', 'neato_no_op', 'quiet'])\n",
      "DEBUG:graphviz._tools:deprecate positional args: graphviz.backend.unflattening.unflatten(['stagger', 'fanout', 'chain', 'encoding'])\n",
      "DEBUG:graphviz._tools:deprecate positional args: graphviz.backend.viewing.view(['quiet'])\n",
      "DEBUG:graphviz._tools:deprecate positional args: graphviz.quoting.quote(['is_html_string', 'is_valid_id', 'dot_keywords', 'endswith_odd_number_of_backslashes', 'escape_unescaped_quotes'])\n",
      "DEBUG:graphviz._tools:deprecate positional args: graphviz.quoting.a_list(['kwargs', 'attributes'])\n",
      "DEBUG:graphviz._tools:deprecate positional args: graphviz.quoting.attr_list(['kwargs', 'attributes'])\n",
      "DEBUG:graphviz._tools:deprecate positional args: graphviz.dot.Dot.clear(['keep_attrs'])\n",
      "DEBUG:graphviz._tools:deprecate positional args: graphviz.dot.Dot.__iter__(['subgraph'])\n",
      "DEBUG:graphviz._tools:deprecate positional args: graphviz.dot.Dot.node(['_attributes'])\n",
      "DEBUG:graphviz._tools:deprecate positional args: graphviz.dot.Dot.edge(['_attributes'])\n",
      "DEBUG:graphviz._tools:deprecate positional args: graphviz.dot.Dot.attr(['_attributes'])\n",
      "DEBUG:graphviz._tools:deprecate positional args: graphviz.dot.Dot.subgraph(['name', 'comment', 'graph_attr', 'node_attr', 'edge_attr', 'body'])\n",
      "DEBUG:graphviz._tools:deprecate positional args: graphviz.piping.Pipe._pipe_legacy(['renderer', 'formatter', 'neato_no_op', 'quiet'])\n",
      "DEBUG:graphviz._tools:deprecate positional args: graphviz.saving.Save.save(['directory'])\n",
      "DEBUG:graphviz._tools:deprecate positional args: graphviz.rendering.Render.render(['directory', 'view', 'cleanup', 'format', 'renderer', 'formatter', 'neato_no_op', 'quiet', 'quiet_view'])\n",
      "DEBUG:graphviz._tools:deprecate positional args: graphviz.rendering.Render.view(['directory', 'cleanup', 'quiet', 'quiet_view'])\n",
      "DEBUG:graphviz._tools:deprecate positional args: graphviz.unflattening.Unflatten.unflatten(['stagger', 'fanout', 'chain'])\n",
      "DEBUG:graphviz._tools:deprecate positional args: graphviz.graphs.BaseGraph.__init__(['comment', 'filename', 'directory', 'format', 'engine', 'encoding', 'graph_attr', 'node_attr', 'edge_attr', 'body', 'strict'])\n",
      "DEBUG:graphviz._tools:deprecate positional args: graphviz.sources.Source.from_file(['directory', 'format', 'engine', 'encoding', 'renderer', 'formatter'])\n",
      "DEBUG:graphviz._tools:deprecate positional args: graphviz.sources.Source.__init__(['filename', 'directory', 'format', 'engine', 'encoding'])\n",
      "DEBUG:graphviz._tools:deprecate positional args: graphviz.sources.Source.save(['directory'])\n",
      "DEBUG:graphviz.backend.execute:run [PosixPath('dot'), '-Kdot', '-Tsvg']\n"
     ]
    },
    {
     "data": {
      "image/svg+xml": [
       "<?xml version=\"1.0\" encoding=\"UTF-8\" standalone=\"no\"?>\n",
       "<!DOCTYPE svg PUBLIC \"-//W3C//DTD SVG 1.1//EN\"\n",
       " \"http://www.w3.org/Graphics/SVG/1.1/DTD/svg11.dtd\">\n",
       "<!-- Generated by graphviz version 2.50.0 (0)\n",
       " -->\n",
       "<!-- Pages: 1 -->\n",
       "<svg width=\"590pt\" height=\"152pt\"\n",
       " viewBox=\"0.00 0.00 590.23 152.00\" xmlns=\"http://www.w3.org/2000/svg\" xmlns:xlink=\"http://www.w3.org/1999/xlink\">\n",
       "<g id=\"graph0\" class=\"graph\" transform=\"scale(1 1) rotate(0) translate(4 148)\">\n",
       "<polygon fill=\"white\" stroke=\"transparent\" points=\"-4,4 -4,-148 586.23,-148 586.23,4 -4,4\"/>\n",
       "<!-- __start__ -->\n",
       "<g id=\"node1\" class=\"node\">\n",
       "<title>__start__</title>\n",
       "<ellipse fill=\"#f4e8e8\" stroke=\"black\" cx=\"47.95\" cy=\"-72\" rx=\"47.89\" ry=\"18\"/>\n",
       "<text text-anchor=\"middle\" x=\"47.95\" y=\"-69.5\" font-family=\"Helvetica,sans-Serif\" font-size=\"10.00\">__start__</text>\n",
       "</g>\n",
       "<!-- task1 -->\n",
       "<g id=\"node3\" class=\"node\">\n",
       "<title>task1</title>\n",
       "<path fill=\"lightblue\" stroke=\"black\" d=\"M173.89,-90C173.89,-90 143.89,-90 143.89,-90 137.89,-90 131.89,-84 131.89,-78 131.89,-78 131.89,-66 131.89,-66 131.89,-60 137.89,-54 143.89,-54 143.89,-54 173.89,-54 173.89,-54 179.89,-54 185.89,-60 185.89,-66 185.89,-66 185.89,-78 185.89,-78 185.89,-84 179.89,-90 173.89,-90\"/>\n",
       "<text text-anchor=\"middle\" x=\"158.89\" y=\"-69.5\" font-family=\"Helvetica,sans-Serif\" font-size=\"10.00\">task1</text>\n",
       "</g>\n",
       "<!-- __start__&#45;&gt;task1 -->\n",
       "<g id=\"edge4\" class=\"edge\">\n",
       "<title>__start__&#45;&gt;task1</title>\n",
       "<path fill=\"none\" stroke=\"black\" d=\"M96.1,-72C104.58,-72 113.29,-72 121.41,-72\"/>\n",
       "<polygon fill=\"black\" stroke=\"black\" points=\"121.67,-75.5 131.67,-72 121.67,-68.5 121.67,-75.5\"/>\n",
       "</g>\n",
       "<!-- __end__ -->\n",
       "<g id=\"node2\" class=\"node\">\n",
       "<title>__end__</title>\n",
       "<ellipse fill=\"#f4e8e8\" stroke=\"black\" cx=\"537.06\" cy=\"-72\" rx=\"45.34\" ry=\"18\"/>\n",
       "<text text-anchor=\"middle\" x=\"537.06\" y=\"-69.5\" font-family=\"Helvetica,sans-Serif\" font-size=\"10.00\">__end__</text>\n",
       "</g>\n",
       "<!-- task2 -->\n",
       "<g id=\"node4\" class=\"node\">\n",
       "<title>task2</title>\n",
       "<path fill=\"lightblue\" stroke=\"black\" d=\"M263.89,-90C263.89,-90 233.89,-90 233.89,-90 227.89,-90 221.89,-84 221.89,-78 221.89,-78 221.89,-66 221.89,-66 221.89,-60 227.89,-54 233.89,-54 233.89,-54 263.89,-54 263.89,-54 269.89,-54 275.89,-60 275.89,-66 275.89,-66 275.89,-78 275.89,-78 275.89,-84 269.89,-90 263.89,-90\"/>\n",
       "<text text-anchor=\"middle\" x=\"248.89\" y=\"-69.5\" font-family=\"Helvetica,sans-Serif\" font-size=\"10.00\">task2</text>\n",
       "</g>\n",
       "<!-- task1&#45;&gt;task2 -->\n",
       "<g id=\"edge6\" class=\"edge\">\n",
       "<title>task1&#45;&gt;task2</title>\n",
       "<path fill=\"none\" stroke=\"black\" d=\"M186.3,-72C194.29,-72 203.2,-72 211.72,-72\"/>\n",
       "<polygon fill=\"black\" stroke=\"black\" points=\"211.81,-75.5 221.81,-72 211.81,-68.5 211.81,-75.5\"/>\n",
       "</g>\n",
       "<!-- task3 -->\n",
       "<g id=\"node5\" class=\"node\">\n",
       "<title>task3</title>\n",
       "<path fill=\"lightblue\" stroke=\"black\" d=\"M353.89,-144C353.89,-144 323.89,-144 323.89,-144 317.89,-144 311.89,-138 311.89,-132 311.89,-132 311.89,-120 311.89,-120 311.89,-114 317.89,-108 323.89,-108 323.89,-108 353.89,-108 353.89,-108 359.89,-108 365.89,-114 365.89,-120 365.89,-120 365.89,-132 365.89,-132 365.89,-138 359.89,-144 353.89,-144\"/>\n",
       "<text text-anchor=\"middle\" x=\"338.89\" y=\"-123.5\" font-family=\"Helvetica,sans-Serif\" font-size=\"10.00\">task3</text>\n",
       "</g>\n",
       "<!-- task2&#45;&gt;task3 -->\n",
       "<g id=\"edge2\" class=\"edge\">\n",
       "<title>task2&#45;&gt;task3</title>\n",
       "<path fill=\"none\" stroke=\"black\" d=\"M276.3,-88.2C284.73,-93.37 294.19,-99.18 303.12,-104.66\"/>\n",
       "<polygon fill=\"black\" stroke=\"black\" points=\"301.46,-107.75 311.81,-110 305.12,-101.78 301.46,-107.75\"/>\n",
       "</g>\n",
       "<!-- task4 -->\n",
       "<g id=\"node6\" class=\"node\">\n",
       "<title>task4</title>\n",
       "<path fill=\"lightblue\" stroke=\"black\" d=\"M353.89,-90C353.89,-90 323.89,-90 323.89,-90 317.89,-90 311.89,-84 311.89,-78 311.89,-78 311.89,-66 311.89,-66 311.89,-60 317.89,-54 323.89,-54 323.89,-54 353.89,-54 353.89,-54 359.89,-54 365.89,-60 365.89,-66 365.89,-66 365.89,-78 365.89,-78 365.89,-84 359.89,-90 353.89,-90\"/>\n",
       "<text text-anchor=\"middle\" x=\"338.89\" y=\"-69.5\" font-family=\"Helvetica,sans-Serif\" font-size=\"10.00\">task4</text>\n",
       "</g>\n",
       "<!-- task2&#45;&gt;task4 -->\n",
       "<g id=\"edge3\" class=\"edge\">\n",
       "<title>task2&#45;&gt;task4</title>\n",
       "<path fill=\"none\" stroke=\"black\" d=\"M276.3,-72C284.29,-72 293.2,-72 301.72,-72\"/>\n",
       "<polygon fill=\"black\" stroke=\"black\" points=\"301.81,-75.5 311.81,-72 301.81,-68.5 301.81,-75.5\"/>\n",
       "</g>\n",
       "<!-- task5 -->\n",
       "<g id=\"node7\" class=\"node\">\n",
       "<title>task5</title>\n",
       "<path fill=\"lightblue\" stroke=\"black\" d=\"M353.89,-36C353.89,-36 323.89,-36 323.89,-36 317.89,-36 311.89,-30 311.89,-24 311.89,-24 311.89,-12 311.89,-12 311.89,-6 317.89,0 323.89,0 323.89,0 353.89,0 353.89,0 359.89,0 365.89,-6 365.89,-12 365.89,-12 365.89,-24 365.89,-24 365.89,-30 359.89,-36 353.89,-36\"/>\n",
       "<text text-anchor=\"middle\" x=\"338.89\" y=\"-15.5\" font-family=\"Helvetica,sans-Serif\" font-size=\"10.00\">task5</text>\n",
       "</g>\n",
       "<!-- task2&#45;&gt;task5 -->\n",
       "<g id=\"edge1\" class=\"edge\">\n",
       "<title>task2&#45;&gt;task5</title>\n",
       "<path fill=\"none\" stroke=\"black\" d=\"M276.3,-55.8C284.73,-50.63 294.19,-44.82 303.12,-39.34\"/>\n",
       "<polygon fill=\"black\" stroke=\"black\" points=\"305.12,-42.22 311.81,-34 301.46,-36.25 305.12,-42.22\"/>\n",
       "</g>\n",
       "<!-- task6 -->\n",
       "<g id=\"node8\" class=\"node\">\n",
       "<title>task6</title>\n",
       "<path fill=\"lightblue\" stroke=\"black\" d=\"M443.89,-90C443.89,-90 413.89,-90 413.89,-90 407.89,-90 401.89,-84 401.89,-78 401.89,-78 401.89,-66 401.89,-66 401.89,-60 407.89,-54 413.89,-54 413.89,-54 443.89,-54 443.89,-54 449.89,-54 455.89,-60 455.89,-66 455.89,-66 455.89,-78 455.89,-78 455.89,-84 449.89,-90 443.89,-90\"/>\n",
       "<text text-anchor=\"middle\" x=\"428.89\" y=\"-69.5\" font-family=\"Helvetica,sans-Serif\" font-size=\"10.00\">task6</text>\n",
       "</g>\n",
       "<!-- task3&#45;&gt;task6 -->\n",
       "<g id=\"edge9\" class=\"edge\">\n",
       "<title>task3&#45;&gt;task6</title>\n",
       "<path fill=\"none\" stroke=\"black\" d=\"M366.3,-109.8C374.73,-104.63 384.19,-98.82 393.12,-93.34\"/>\n",
       "<polygon fill=\"black\" stroke=\"black\" points=\"395.12,-96.22 401.81,-88 391.46,-90.25 395.12,-96.22\"/>\n",
       "</g>\n",
       "<!-- task4&#45;&gt;task6 -->\n",
       "<g id=\"edge7\" class=\"edge\">\n",
       "<title>task4&#45;&gt;task6</title>\n",
       "<path fill=\"none\" stroke=\"black\" d=\"M366.3,-72C374.29,-72 383.2,-72 391.72,-72\"/>\n",
       "<polygon fill=\"black\" stroke=\"black\" points=\"391.81,-75.5 401.81,-72 391.81,-68.5 391.81,-75.5\"/>\n",
       "</g>\n",
       "<!-- task5&#45;&gt;task6 -->\n",
       "<g id=\"edge5\" class=\"edge\">\n",
       "<title>task5&#45;&gt;task6</title>\n",
       "<path fill=\"none\" stroke=\"black\" d=\"M366.3,-34.2C374.73,-39.37 384.19,-45.18 393.12,-50.66\"/>\n",
       "<polygon fill=\"black\" stroke=\"black\" points=\"391.46,-53.75 401.81,-56 395.12,-47.78 391.46,-53.75\"/>\n",
       "</g>\n",
       "<!-- task6&#45;&gt;__end__ -->\n",
       "<g id=\"edge8\" class=\"edge\">\n",
       "<title>task6&#45;&gt;__end__</title>\n",
       "<path fill=\"none\" stroke=\"black\" d=\"M456.14,-72C463.82,-72 472.51,-72 481.27,-72\"/>\n",
       "<polygon fill=\"black\" stroke=\"black\" points=\"481.52,-75.5 491.52,-72 481.52,-68.5 481.52,-75.5\"/>\n",
       "</g>\n",
       "</g>\n",
       "</svg>\n"
      ],
      "text/plain": [
       "<graphviz.graphs.Digraph at 0x1108a6d10>"
      ]
     },
     "execution_count": 3,
     "metadata": {},
     "output_type": "execute_result"
    }
   ],
   "source": [
    "from primeGraph.models.state import GraphState\n",
    "from primeGraph.buffer.factory import History\n",
    "from primeGraph.checkpoint.local_storage import LocalStorage\n",
    "from primeGraph.graph.executable import Graph\n",
    "from primeGraph.constants import START, END\n",
    "\n",
    "\n",
    "class StateForTestWithHistory(GraphState):\n",
    "    execution_order: History[str]\n",
    "\n",
    "\n",
    "state = StateForTestWithHistory(execution_order=[])\n",
    "storage = LocalStorage()\n",
    "graph = Graph(state=state, checkpoint_storage=storage)\n",
    "\n",
    "\n",
    "@graph.node()\n",
    "def task1(state):\n",
    "    print(\"task1\")\n",
    "    time.sleep(0.5)\n",
    "    return {\"execution_order\": \"task1\"}\n",
    "\n",
    "\n",
    "@graph.node()\n",
    "def task2(state):\n",
    "    print(\"task2\")\n",
    "    time.sleep(0.5)\n",
    "    return {\"execution_order\": \"task2\"}\n",
    "\n",
    "\n",
    "@graph.node()\n",
    "def task3(state):\n",
    "    print(\"task3\")\n",
    "    time.sleep(1)\n",
    "    return {\"execution_order\": \"task3\"}\n",
    "\n",
    "\n",
    "@graph.node()\n",
    "def task4(state):\n",
    "    print(\"task4\")\n",
    "    time.sleep(2)\n",
    "    print(\"task4 done\")\n",
    "\n",
    "    return {\"execution_order\": \"task4\"}\n",
    "\n",
    "\n",
    "@graph.node()\n",
    "def task5(state):\n",
    "    print(\"task5\")\n",
    "    time.sleep(1)\n",
    "    return {\"execution_order\": \"task5\"}\n",
    "\n",
    "\n",
    "@graph.node(interrupt=\"before\")\n",
    "def task6(state):\n",
    "    print(\"task6\")\n",
    "    return {\"execution_order\": \"task6\"}\n",
    "\n",
    "\n",
    "graph.add_edge(START, \"task1\")\n",
    "graph.add_edge(\"task1\", \"task2\")\n",
    "graph.add_edge(\"task2\", \"task3\")\n",
    "graph.add_edge(\"task2\", \"task4\")\n",
    "graph.add_edge(\"task2\", \"task5\")\n",
    "graph.add_edge(\"task4\", \"task6\")\n",
    "graph.add_edge(\"task3\", \"task6\")\n",
    "graph.add_edge(\"task5\", \"task6\")\n",
    "graph.add_edge(\"task6\", END)\n",
    "graph.compile()\n",
    "\n",
    "graph.visualize()"
   ]
  },
  {
   "cell_type": "code",
   "execution_count": 4,
   "metadata": {},
   "outputs": [
    {
     "name": "stderr",
     "output_type": "stream",
     "text": [
      "DEBUG:primeGraph.graph.executable:Chain status updated to: ChainStatus.RUNNING\n"
     ]
    },
    {
     "name": "stdout",
     "output_type": "stream",
     "text": [
      "task1\n"
     ]
    },
    {
     "name": "stderr",
     "output_type": "stream",
     "text": [
      "INFO:primeGraph.checkpoint.local_storage:Checkpoint 'checkpoint_f90c3657-8aec-4218-8162-d6cc4740e393' saved in memory.\n",
      "DEBUG:primeGraph.graph.executable:Checkpoint saved after node: task1\n"
     ]
    },
    {
     "name": "stdout",
     "output_type": "stream",
     "text": [
      "task2\n"
     ]
    },
    {
     "name": "stderr",
     "output_type": "stream",
     "text": [
      "INFO:primeGraph.checkpoint.local_storage:Checkpoint 'checkpoint_4f793195-6c02-4ab8-972b-33197ba93e24' saved in memory.\n",
      "DEBUG:primeGraph.graph.executable:Checkpoint saved after node: task2\n"
     ]
    },
    {
     "name": "stdout",
     "output_type": "stream",
     "text": [
      "task4task5\n",
      "\n",
      "task3\n"
     ]
    },
    {
     "name": "stderr",
     "output_type": "stream",
     "text": [
      "INFO:primeGraph.checkpoint.local_storage:Checkpoint 'checkpoint_73d5d984-26a0-47e2-95e8-9523050f3c19' saved in memory.\n",
      "DEBUG:primeGraph.graph.executable:Checkpoint saved after node: group_task5_task3_task4\n",
      "DEBUG:primeGraph.graph.executable:Chain status updated to: ChainStatus.PAUSE\n",
      "INFO:primeGraph.checkpoint.local_storage:Checkpoint 'checkpoint_b45274a3-8083-499e-a093-04a738a2d6c5' saved in memory.\n",
      "DEBUG:primeGraph.graph.executable:Checkpoint saved after node: task6\n"
     ]
    },
    {
     "name": "stdout",
     "output_type": "stream",
     "text": [
      "task4 done\n",
      "chain_0750ee81-1bd2-4e81-ba6f-9a330c833ee2\n"
     ]
    }
   ],
   "source": [
    "chain_id = graph.start()\n",
    "print(chain_id)\n",
    "assert all(\n",
    "    task in graph.state.execution_order\n",
    "    for task in [\"task1\", \"task2\", \"task3\", \"task4\", \"task5\"]\n",
    "), \"tasks are not in there\"\n",
    "assert len(storage.list_checkpoints(graph.chain_id)) == 4  # n + 1 due to interrupt"
   ]
  },
  {
   "cell_type": "code",
   "execution_count": 5,
   "metadata": {},
   "outputs": [
    {
     "data": {
      "text/plain": [
       "['task1', 'task2', 'task5', 'task3', 'task4']"
      ]
     },
     "execution_count": 5,
     "metadata": {},
     "output_type": "execute_result"
    }
   ],
   "source": [
    "graph.state.execution_order"
   ]
  },
  {
   "cell_type": "code",
   "execution_count": 6,
   "metadata": {},
   "outputs": [
    {
     "data": {
      "text/plain": [
       "[Checkpoint(checkpoint_id='checkpoint_f90c3657-8aec-4218-8162-d6cc4740e393', chain_id='chain_0750ee81-1bd2-4e81-ba6f-9a330c833ee2', chain_status=<ChainStatus.RUNNING: 3>, state_class='__main__.StateForTestWithHistory', state_version='a68afb7bed1b464bc9ee75fa7adf0b26', data='{\"version\":\"a68afb7bed1b464bc9ee75fa7adf0b26\",\"execution_order\":[\"task1\"]}', timestamp=datetime.datetime(2024, 12, 14, 10, 32, 33, 514952), next_execution_node=None, last_executed_node=None, executed_nodes={'task1'}),\n",
       " Checkpoint(checkpoint_id='checkpoint_4f793195-6c02-4ab8-972b-33197ba93e24', chain_id='chain_0750ee81-1bd2-4e81-ba6f-9a330c833ee2', chain_status=<ChainStatus.RUNNING: 3>, state_class='__main__.StateForTestWithHistory', state_version='a68afb7bed1b464bc9ee75fa7adf0b26', data='{\"version\":\"a68afb7bed1b464bc9ee75fa7adf0b26\",\"execution_order\":[\"task1\",\"task2\"]}', timestamp=datetime.datetime(2024, 12, 14, 10, 32, 34, 35312), next_execution_node=None, last_executed_node=None, executed_nodes={'task2', 'task1'}),\n",
       " Checkpoint(checkpoint_id='checkpoint_73d5d984-26a0-47e2-95e8-9523050f3c19', chain_id='chain_0750ee81-1bd2-4e81-ba6f-9a330c833ee2', chain_status=<ChainStatus.RUNNING: 3>, state_class='__main__.StateForTestWithHistory', state_version='a68afb7bed1b464bc9ee75fa7adf0b26', data='{\"version\":\"a68afb7bed1b464bc9ee75fa7adf0b26\",\"execution_order\":[\"task1\",\"task2\",\"task5\",\"task3\",\"task4\"]}', timestamp=datetime.datetime(2024, 12, 14, 10, 32, 36, 48568), next_execution_node=None, last_executed_node=None, executed_nodes={'task4', 'task5', 'task2', 'task3', 'task1'}),\n",
       " Checkpoint(checkpoint_id='checkpoint_b45274a3-8083-499e-a093-04a738a2d6c5', chain_id='chain_0750ee81-1bd2-4e81-ba6f-9a330c833ee2', chain_status=<ChainStatus.PAUSE: 2>, state_class='__main__.StateForTestWithHistory', state_version='a68afb7bed1b464bc9ee75fa7adf0b26', data='{\"version\":\"a68afb7bed1b464bc9ee75fa7adf0b26\",\"execution_order\":[\"task1\",\"task2\",\"task5\",\"task3\",\"task4\"]}', timestamp=datetime.datetime(2024, 12, 14, 10, 32, 36, 59000), next_execution_node='task6', last_executed_node=None, executed_nodes={'task4', 'task5', 'task2', 'task3', 'task1'})]"
      ]
     },
     "execution_count": 6,
     "metadata": {},
     "output_type": "execute_result"
    }
   ],
   "source": [
    "storage.list_checkpoints(graph.chain_id)"
   ]
  },
  {
   "cell_type": "code",
   "execution_count": null,
   "metadata": {},
   "outputs": [],
   "source": [
    "graph.state"
   ]
  },
  {
   "cell_type": "code",
   "execution_count": null,
   "metadata": {},
   "outputs": [],
   "source": [
    "# start a new chain just to test the load from checkpoint\n",
    "new_chain_id = graph.start()\n",
    "print(new_chain_id)"
   ]
  },
  {
   "cell_type": "code",
   "execution_count": null,
   "metadata": {},
   "outputs": [],
   "source": [
    "from rich import print as rprint\n",
    "\n",
    "rprint(storage._storage)"
   ]
  },
  {
   "cell_type": "code",
   "execution_count": null,
   "metadata": {},
   "outputs": [],
   "source": [
    "print(\"current_chain_id\", graph.chain_id)\n",
    "print(\"saved_chain_id\", chain_id)\n",
    "graph.load_from_checkpoint(chain_id)\n",
    "print(\"after load chain_id\", graph.chain_id)\n",
    "\n",
    "graph.resume()\n",
    "assert all(\n",
    "    task in graph.state.execution_order\n",
    "    for task in [\"task1\", \"task2\", \"task3\", \"task4\", \"task5\", \"task6\"]\n",
    ")"
   ]
  },
  {
   "cell_type": "code",
   "execution_count": null,
   "metadata": {},
   "outputs": [],
   "source": [
    "graph.load_from_checkpoint(chain_id)\n",
    "graph.state.execution_order"
   ]
  },
  {
   "cell_type": "code",
   "execution_count": null,
   "metadata": {},
   "outputs": [],
   "source": [
    "graph.state"
   ]
  },
  {
   "cell_type": "code",
   "execution_count": null,
   "metadata": {},
   "outputs": [],
   "source": [
    "getattr(graph.state, \"execution_order\")"
   ]
  },
  {
   "cell_type": "markdown",
   "metadata": {},
   "source": [
    "### Test 3 (PostgreSQLStorage)\n"
   ]
  },
  {
   "cell_type": "code",
   "execution_count": 4,
   "metadata": {},
   "outputs": [
    {
     "name": "stderr",
     "output_type": "stream",
     "text": [
      "DEBUG:graphviz.saving:write lines to 'graph'\n",
      "DEBUG:graphviz.backend.execute:run [PosixPath('dot'), '-Kdot', '-Tpdf', '-O', 'graph']\n",
      "DEBUG:graphviz.rendering:delete 'graph'\n",
      "DEBUG:graphviz.backend.viewing:view: ['open', 'graph.pdf']\n"
     ]
    }
   ],
   "source": [
    "from tiny_graph.models.state import GraphState\n",
    "from tiny_graph.buffer.factory import History\n",
    "from tiny_graph.checkpoint.postgresql import PostgreSQLStorage\n",
    "from tiny_graph.graph.executable import Graph\n",
    "from tiny_graph.constants import START, END\n",
    "\n",
    "\n",
    "class StateForTestWithHistory(GraphState):\n",
    "    execution_order: History[str]\n",
    "\n",
    "\n",
    "state = StateForTestWithHistory(execution_order=[])\n",
    "storage = PostgreSQLStorage.from_config(\n",
    "    **{\n",
    "        \"host\": \"localhost\",\n",
    "        \"port\": 5432,\n",
    "        \"user\": \"tiny_graph\",\n",
    "        \"password\": \"tiny_graph\",\n",
    "        \"database\": \"tiny_graph\",\n",
    "    }\n",
    ")\n",
    "\n",
    "assert storage.check_schema(), \"Schema is not valid\"\n",
    "\n",
    "graph = Graph(state=state, checkpoint_storage=storage)\n",
    "\n",
    "\n",
    "@graph.node()\n",
    "def task1(state):\n",
    "    print(\"task1\")\n",
    "    time.sleep(0.5)\n",
    "    return {\"execution_order\": \"task1\"}\n",
    "\n",
    "\n",
    "@graph.node()\n",
    "def task2(state):\n",
    "    print(\"task2\")\n",
    "    time.sleep(0.5)\n",
    "    return {\"execution_order\": \"task2\"}\n",
    "\n",
    "\n",
    "@graph.node()\n",
    "def task3(state):\n",
    "    print(\"task3\")\n",
    "    time.sleep(1)\n",
    "    return {\"execution_order\": \"task3\"}\n",
    "\n",
    "\n",
    "@graph.node()\n",
    "def task4(state):\n",
    "    print(\"task4\")\n",
    "    time.sleep(2)\n",
    "    print(\"task4 done\")\n",
    "\n",
    "    return {\"execution_order\": \"task4\"}\n",
    "\n",
    "\n",
    "@graph.node()\n",
    "def task5(state):\n",
    "    print(\"task5\")\n",
    "    time.sleep(1)\n",
    "    return {\"execution_order\": \"task5\"}\n",
    "\n",
    "\n",
    "@graph.node(interrupt=\"before\")\n",
    "def task6(state):\n",
    "    print(\"task6\")\n",
    "    return {\"execution_order\": \"task6\"}\n",
    "\n",
    "\n",
    "graph.add_edge(START, \"task1\")\n",
    "graph.add_edge(\"task1\", \"task2\")\n",
    "graph.add_edge(\"task2\", \"task3\")\n",
    "graph.add_edge(\"task2\", \"task4\")\n",
    "graph.add_edge(\"task2\", \"task5\")\n",
    "graph.add_edge(\"task4\", \"task6\")\n",
    "graph.add_edge(\"task3\", \"task6\")\n",
    "graph.add_edge(\"task5\", \"task6\")\n",
    "graph.add_edge(\"task6\", END)\n",
    "graph.compile()\n",
    "\n",
    "graph.visualize()"
   ]
  },
  {
   "cell_type": "code",
   "execution_count": 5,
   "metadata": {},
   "outputs": [
    {
     "name": "stderr",
     "output_type": "stream",
     "text": [
      "DEBUG:tiny_graph.graph.executable:Chain status updated to: ChainStatus.RUNNING\n",
      "DEBUG:tiny_graph.graph.executable:Executing task in node: task1\n"
     ]
    },
    {
     "name": "stdout",
     "output_type": "stream",
     "text": [
      "task1\n"
     ]
    },
    {
     "name": "stderr",
     "output_type": "stream",
     "text": [
      "INFO:tiny_graph.checkpoint.postgresql:Checkpoint 'checkpoint_ac8b7027-61ba-4fac-8472-5d1481cce121' saved to PostgreSQL\n",
      "DEBUG:tiny_graph.graph.executable:Checkpoint saved after node: task1\n",
      "DEBUG:tiny_graph.graph.executable:Executing task in node: task2\n"
     ]
    },
    {
     "name": "stdout",
     "output_type": "stream",
     "text": [
      "task2\n"
     ]
    },
    {
     "name": "stderr",
     "output_type": "stream",
     "text": [
      "INFO:tiny_graph.checkpoint.postgresql:Checkpoint 'checkpoint_122767c1-006f-4f5c-b658-249c0d581a82' saved to PostgreSQL\n",
      "DEBUG:tiny_graph.graph.executable:Checkpoint saved after node: task2\n",
      "DEBUG:tiny_graph.graph.executable:Executing task in node: task3\n",
      "DEBUG:tiny_graph.graph.executable:Executing task in node: task5\n",
      "DEBUG:tiny_graph.graph.executable:Executing task in node: task4\n"
     ]
    },
    {
     "name": "stdout",
     "output_type": "stream",
     "text": [
      "task3\n",
      "task5\n",
      "task4\n"
     ]
    },
    {
     "name": "stderr",
     "output_type": "stream",
     "text": [
      "INFO:tiny_graph.checkpoint.postgresql:Checkpoint 'checkpoint_273b0f65-076c-4f76-a659-69142aae3d99' saved to PostgreSQL\n",
      "DEBUG:tiny_graph.graph.executable:Checkpoint saved after node: group_task4_task5_task3\n",
      "DEBUG:tiny_graph.graph.executable:Chain status updated to: ChainStatus.PAUSE\n",
      "INFO:tiny_graph.checkpoint.postgresql:Checkpoint 'checkpoint_ca16e3fa-ff22-4e53-bdd8-ff0a97630224' saved to PostgreSQL\n",
      "DEBUG:tiny_graph.graph.executable:Checkpoint saved after node: task6\n"
     ]
    },
    {
     "name": "stdout",
     "output_type": "stream",
     "text": [
      "task4 done\n",
      "chain_61ab9cf6-b483-437f-9637-b53cbba99309\n"
     ]
    }
   ],
   "source": [
    "chain_id = graph.start()\n",
    "print(chain_id)\n",
    "assert all(\n",
    "    task in graph.state.execution_order\n",
    "    for task in [\"task1\", \"task2\", \"task3\", \"task4\", \"task5\"]\n",
    "), \"tasks are not in there\"\n",
    "assert len(storage.list_checkpoints(graph.chain_id)) == 4  # n + 1 due to interrupt"
   ]
  },
  {
   "cell_type": "code",
   "execution_count": 6,
   "metadata": {},
   "outputs": [
    {
     "data": {
      "text/plain": [
       "['task1', 'task2', 'task5', 'task3', 'task4']"
      ]
     },
     "execution_count": 6,
     "metadata": {},
     "output_type": "execute_result"
    }
   ],
   "source": [
    "graph.state.execution_order"
   ]
  },
  {
   "cell_type": "code",
   "execution_count": 7,
   "metadata": {},
   "outputs": [
    {
     "data": {
      "text/plain": [
       "[Checkpoint(checkpoint_id='checkpoint_ca16e3fa-ff22-4e53-bdd8-ff0a97630224', chain_id='chain_61ab9cf6-b483-437f-9637-b53cbba99309', chain_status=<ChainStatus.PAUSE: 2>, state_class='__main__.StateForTestWithHistory', state_version='a68afb7bed1b464bc9ee75fa7adf0b26', data='{\"version\":\"a68afb7bed1b464bc9ee75fa7adf0b26\",\"execution_order\":[\"task1\",\"task2\",\"task5\",\"task3\",\"task4\"]}', timestamp=datetime.datetime(2024, 11, 29, 15, 29, 14, 550081, tzinfo=datetime.timezone.utc), next_execution_node='task6', last_executed_node=None, executed_nodes={'task3', 'task4', 'task2', 'task5', 'task1'}),\n",
       " Checkpoint(checkpoint_id='checkpoint_273b0f65-076c-4f76-a659-69142aae3d99', chain_id='chain_61ab9cf6-b483-437f-9637-b53cbba99309', chain_status=<ChainStatus.RUNNING: 3>, state_class='__main__.StateForTestWithHistory', state_version='a68afb7bed1b464bc9ee75fa7adf0b26', data='{\"version\":\"a68afb7bed1b464bc9ee75fa7adf0b26\",\"execution_order\":[\"task1\",\"task2\",\"task5\",\"task3\",\"task4\"]}', timestamp=datetime.datetime(2024, 11, 29, 15, 29, 14, 529204, tzinfo=datetime.timezone.utc), next_execution_node=None, last_executed_node=None, executed_nodes={'task3', 'task4', 'task2', 'task5', 'task1'}),\n",
       " Checkpoint(checkpoint_id='checkpoint_122767c1-006f-4f5c-b658-249c0d581a82', chain_id='chain_61ab9cf6-b483-437f-9637-b53cbba99309', chain_status=<ChainStatus.RUNNING: 3>, state_class='__main__.StateForTestWithHistory', state_version='a68afb7bed1b464bc9ee75fa7adf0b26', data='{\"version\":\"a68afb7bed1b464bc9ee75fa7adf0b26\",\"execution_order\":[\"task1\",\"task2\"]}', timestamp=datetime.datetime(2024, 11, 29, 15, 29, 12, 505385, tzinfo=datetime.timezone.utc), next_execution_node=None, last_executed_node=None, executed_nodes={'task1', 'task2'}),\n",
       " Checkpoint(checkpoint_id='checkpoint_ac8b7027-61ba-4fac-8472-5d1481cce121', chain_id='chain_61ab9cf6-b483-437f-9637-b53cbba99309', chain_status=<ChainStatus.RUNNING: 3>, state_class='__main__.StateForTestWithHistory', state_version='a68afb7bed1b464bc9ee75fa7adf0b26', data='{\"version\":\"a68afb7bed1b464bc9ee75fa7adf0b26\",\"execution_order\":[\"task1\"]}', timestamp=datetime.datetime(2024, 11, 29, 15, 29, 11, 964768, tzinfo=datetime.timezone.utc), next_execution_node=None, last_executed_node=None, executed_nodes={'task1'})]"
      ]
     },
     "execution_count": 7,
     "metadata": {},
     "output_type": "execute_result"
    }
   ],
   "source": [
    "storage.list_checkpoints(graph.chain_id)"
   ]
  },
  {
   "cell_type": "code",
   "execution_count": 8,
   "metadata": {},
   "outputs": [
    {
     "data": {
      "text/plain": [
       "StateForTestWithHistory(version='a68afb7bed1b464bc9ee75fa7adf0b26', execution_order=['task1', 'task2', 'task5', 'task3', 'task4'])"
      ]
     },
     "execution_count": 8,
     "metadata": {},
     "output_type": "execute_result"
    }
   ],
   "source": [
    "graph.state"
   ]
  },
  {
   "cell_type": "code",
   "execution_count": 9,
   "metadata": {},
   "outputs": [
    {
     "name": "stderr",
     "output_type": "stream",
     "text": [
      "DEBUG:tiny_graph.graph.executable:Chain status updated to: ChainStatus.RUNNING\n",
      "DEBUG:tiny_graph.graph.executable:Executing task in node: task1\n"
     ]
    },
    {
     "name": "stdout",
     "output_type": "stream",
     "text": [
      "task1\n"
     ]
    },
    {
     "name": "stderr",
     "output_type": "stream",
     "text": [
      "INFO:tiny_graph.checkpoint.postgresql:Checkpoint 'checkpoint_9a4d4bef-bf23-444f-a8b0-11df4a41ca1b' saved to PostgreSQL\n",
      "DEBUG:tiny_graph.graph.executable:Checkpoint saved after node: task1\n",
      "DEBUG:tiny_graph.graph.executable:Executing task in node: task2\n"
     ]
    },
    {
     "name": "stdout",
     "output_type": "stream",
     "text": [
      "task2\n"
     ]
    },
    {
     "name": "stderr",
     "output_type": "stream",
     "text": [
      "INFO:tiny_graph.checkpoint.postgresql:Checkpoint 'checkpoint_d1d3ef6f-f382-41c7-9211-591cac672d65' saved to PostgreSQL\n",
      "DEBUG:tiny_graph.graph.executable:Checkpoint saved after node: task2\n",
      "DEBUG:tiny_graph.graph.executable:Executing task in node: task5\n",
      "DEBUG:tiny_graph.graph.executable:Executing task in node: task3\n",
      "DEBUG:tiny_graph.graph.executable:Executing task in node: task4\n"
     ]
    },
    {
     "name": "stdout",
     "output_type": "stream",
     "text": [
      "task5\n",
      "task3\n",
      "task4\n"
     ]
    },
    {
     "name": "stderr",
     "output_type": "stream",
     "text": [
      "INFO:tiny_graph.checkpoint.postgresql:Checkpoint 'checkpoint_6e3c17de-7483-48f2-8e2e-40534d28f284' saved to PostgreSQL\n",
      "DEBUG:tiny_graph.graph.executable:Checkpoint saved after node: group_task4_task5_task3\n",
      "DEBUG:tiny_graph.graph.executable:Chain status updated to: ChainStatus.PAUSE\n",
      "INFO:tiny_graph.checkpoint.postgresql:Checkpoint 'checkpoint_909d213d-4735-4bd6-9989-fb256c462e8f' saved to PostgreSQL\n",
      "DEBUG:tiny_graph.graph.executable:Checkpoint saved after node: task6\n"
     ]
    },
    {
     "name": "stdout",
     "output_type": "stream",
     "text": [
      "task4 done\n",
      "chain_cbb5c9d9-8d75-4c30-bb22-49dec7dc2cd5\n"
     ]
    }
   ],
   "source": [
    "# start a new chain just to test the load from checkpoint\n",
    "new_chain_id = graph.start()\n",
    "print(new_chain_id)"
   ]
  },
  {
   "cell_type": "code",
   "execution_count": 10,
   "metadata": {},
   "outputs": [
    {
     "data": {
      "text/html": [
       "<pre style=\"white-space:pre;overflow-x:auto;line-height:normal;font-family:Menlo,'DejaVu Sans Mono',consolas,'Courier New',monospace\"><span style=\"color: #800080; text-decoration-color: #800080; font-weight: bold\">defaultdict</span><span style=\"font-weight: bold\">(&lt;</span><span style=\"color: #ff00ff; text-decoration-color: #ff00ff; font-weight: bold\">class</span><span style=\"color: #000000; text-decoration-color: #000000\"> </span><span style=\"color: #008000; text-decoration-color: #008000\">'dict'</span><span style=\"font-weight: bold\">&gt;</span>, <span style=\"font-weight: bold\">{})</span>\n",
       "</pre>\n"
      ],
      "text/plain": [
       "\u001b[1;35mdefaultdict\u001b[0m\u001b[1m(\u001b[0m\u001b[1m<\u001b[0m\u001b[1;95mclass\u001b[0m\u001b[39m \u001b[0m\u001b[32m'dict'\u001b[0m\u001b[1m>\u001b[0m, \u001b[1m{\u001b[0m\u001b[1m}\u001b[0m\u001b[1m)\u001b[0m\n"
      ]
     },
     "metadata": {},
     "output_type": "display_data"
    }
   ],
   "source": [
    "from rich import print as rprint\n",
    "\n",
    "rprint(storage._storage)"
   ]
  },
  {
   "cell_type": "code",
   "execution_count": 11,
   "metadata": {},
   "outputs": [
    {
     "name": "stderr",
     "output_type": "stream",
     "text": [
      "DEBUG:tiny_graph.graph.executable:Loaded checkpoint checkpoint_ca16e3fa-ff22-4e53-bdd8-ff0a97630224 for chain chain_61ab9cf6-b483-437f-9637-b53cbba99309\n",
      "DEBUG:tiny_graph.graph.executable:Chain status updated to: ChainStatus.RUNNING\n",
      "INFO:tiny_graph.checkpoint.postgresql:Checkpoint 'checkpoint_06ca30f3-fb5b-45ff-b1a2-2311fb4cd9f6' saved to PostgreSQL\n",
      "DEBUG:tiny_graph.graph.executable:Checkpoint saved after node: task1\n",
      "INFO:tiny_graph.checkpoint.postgresql:Checkpoint 'checkpoint_e7bc0e68-5f67-4813-b6dd-0c4a9d08d9e8' saved to PostgreSQL\n",
      "DEBUG:tiny_graph.graph.executable:Checkpoint saved after node: task2\n",
      "INFO:tiny_graph.checkpoint.postgresql:Checkpoint 'checkpoint_b8a0f5a4-42a1-40fc-9a1e-c6a10ad50b14' saved to PostgreSQL\n",
      "DEBUG:tiny_graph.graph.executable:Checkpoint saved after node: group_task4_task5_task3\n",
      "DEBUG:tiny_graph.graph.executable:Chain status updated to: ChainStatus.RUNNING\n",
      "DEBUG:tiny_graph.graph.executable:Executing task in node: task6\n",
      "INFO:tiny_graph.checkpoint.postgresql:Checkpoint 'checkpoint_709a59a4-fb14-4a47-9bf6-796d143af716' saved to PostgreSQL\n",
      "DEBUG:tiny_graph.graph.executable:Checkpoint saved after node: task6\n"
     ]
    },
    {
     "name": "stdout",
     "output_type": "stream",
     "text": [
      "current_chain_id chain_cbb5c9d9-8d75-4c30-bb22-49dec7dc2cd5\n",
      "saved_chain_id chain_61ab9cf6-b483-437f-9637-b53cbba99309\n",
      "after load chain_id chain_61ab9cf6-b483-437f-9637-b53cbba99309\n",
      "task6\n"
     ]
    }
   ],
   "source": [
    "print(\"current_chain_id\", graph.chain_id)\n",
    "print(\"saved_chain_id\", chain_id)\n",
    "graph.load_from_checkpoint(chain_id)\n",
    "print(\"after load chain_id\", graph.chain_id)\n",
    "\n",
    "graph.resume()\n",
    "assert all(\n",
    "    task in graph.state.execution_order\n",
    "    for task in [\"task1\", \"task2\", \"task3\", \"task4\", \"task5\", \"task6\"]\n",
    ")"
   ]
  },
  {
   "cell_type": "code",
   "execution_count": 12,
   "metadata": {},
   "outputs": [
    {
     "name": "stderr",
     "output_type": "stream",
     "text": [
      "DEBUG:tiny_graph.graph.executable:Loaded checkpoint checkpoint_709a59a4-fb14-4a47-9bf6-796d143af716 for chain chain_61ab9cf6-b483-437f-9637-b53cbba99309\n"
     ]
    },
    {
     "data": {
      "text/plain": [
       "['task1', 'task2', 'task5', 'task3', 'task4', 'task6']"
      ]
     },
     "execution_count": 12,
     "metadata": {},
     "output_type": "execute_result"
    }
   ],
   "source": [
    "graph.load_from_checkpoint(chain_id)\n",
    "graph.state.execution_order"
   ]
  },
  {
   "cell_type": "code",
   "execution_count": 13,
   "metadata": {},
   "outputs": [
    {
     "data": {
      "text/plain": [
       "StateForTestWithHistory(version='a68afb7bed1b464bc9ee75fa7adf0b26', execution_order=['task1', 'task2', 'task5', 'task3', 'task4', 'task6'])"
      ]
     },
     "execution_count": 13,
     "metadata": {},
     "output_type": "execute_result"
    }
   ],
   "source": [
    "graph.state"
   ]
  },
  {
   "cell_type": "code",
   "execution_count": null,
   "metadata": {},
   "outputs": [],
   "source": [
    "getattr(graph.state, \"execution_order\")"
   ]
  }
 ],
 "metadata": {
  "kernelspec": {
   "display_name": "tiny-graph",
   "language": "python",
   "name": "python3"
  },
  "language_info": {
   "codemirror_mode": {
    "name": "ipython",
    "version": 3
   },
   "file_extension": ".py",
   "mimetype": "text/x-python",
   "name": "python",
   "nbconvert_exporter": "python",
   "pygments_lexer": "ipython3",
   "version": "3.11.10"
  }
 },
 "nbformat": 4,
 "nbformat_minor": 2
}
