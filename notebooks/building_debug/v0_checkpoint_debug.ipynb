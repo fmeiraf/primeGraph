{
 "cells": [
  {
   "cell_type": "code",
   "execution_count": null,
   "metadata": {},
   "outputs": [],
   "source": [
    "import sys\n",
    "import os\n",
    "\n",
    "sys.path.append(os.path.abspath(\"../..\"))\n",
    "\n",
    "from tiny_graph.graph.executable import Graph\n",
    "from tiny_graph.models.base import GraphState\n",
    "from tiny_graph.buffer.factory import History, LastValue\n",
    "from tiny_graph.checkpoint.storage.local_storage import LocalStorage\n",
    "from tiny_graph.constants import START, END\n",
    "import time\n",
    "from typing import Dict\n",
    "from rich import print as rprint\n",
    "\n",
    "\n",
    "# Define our state model\n",
    "class ProcessState(GraphState):\n",
    "    status: LastValue[str]\n",
    "    results: History[Dict[str, float]]\n",
    "\n",
    "\n",
    "# Initialize state and graph with local storage and chain_id\n",
    "chain_id = \"process_workflow_v1\"\n",
    "state = ProcessState(status=\"\", results={})\n",
    "graph = Graph(state=state, checkpoint_storage=LocalStorage)\n",
    "\n",
    "\n",
    "# Define processing nodes\n",
    "@graph.node()\n",
    "def initialize_process(state):\n",
    "    time.sleep(0.5)  # Simulate work\n",
    "    return {\"status\": \"initializing\"}\n",
    "\n",
    "\n",
    "@graph.node()\n",
    "def process_data_1(state):\n",
    "    time.sleep(0.5)  # Simulate work\n",
    "    return {\"status\": \"processing_1\", \"results\": {\"accuracy\": 0.85, \"step\": 1.0}}\n",
    "\n",
    "\n",
    "@graph.node()\n",
    "def process_data_2(state):\n",
    "    time.sleep(0.5)  # Simulate work\n",
    "    return {\"status\": \"processing_2\", \"results\": {\"accuracy\": 0.92, \"step\": 2.0}}\n",
    "\n",
    "\n",
    "@graph.node()\n",
    "def finalize(state):\n",
    "    time.sleep(0.5)  # Simulate work\n",
    "    return {\"status\": \"completed\"}\n",
    "\n",
    "\n",
    "# Create the workflow\n",
    "graph.add_edge(START, \"initialize_process\")\n",
    "graph.add_edge(\"initialize_process\", \"process_data_1\")\n",
    "graph.add_edge(\"process_data_1\", \"process_data_2\")\n",
    "graph.add_edge(\"process_data_2\", \"finalize\")\n",
    "graph.add_edge(\"finalize\", END)\n",
    "\n",
    "# Compile and execute\n",
    "graph.compile()\n",
    "\n",
    "\n",
    "def run_workflow():\n",
    "    print(\"Starting execution...\")\n",
    "    print(f\"Using chain_id: {graph.chain_id}\")\n",
    "\n",
    "    # Execute the graph (checkpoints will be automatically saved)\n",
    "    graph.execute()\n",
    "\n",
    "    print(\"\\nExecution completed!\")\n",
    "    print(f\"Final status: {graph.state.status}\")\n",
    "    print(f\"Results history: {graph.state.results}\")\n",
    "\n",
    "    print(\"\\nVerifying final state from checkpoint:\")\n",
    "    rprint(f\"Checkpoints: {graph.checkpoint_storage._storage}\")\n",
    "\n",
    "\n",
    "# Run the example\n",
    "if __name__ == \"__main__\":\n",
    "    run_workflow()"
   ]
  },
  {
   "cell_type": "code",
   "execution_count": null,
   "metadata": {},
   "outputs": [],
   "source": [
    "graph.execution_plan"
   ]
  },
  {
   "cell_type": "code",
   "execution_count": null,
   "metadata": {},
   "outputs": [],
   "source": [
    "graph.checkpoint_storage.chain_id"
   ]
  },
  {
   "cell_type": "code",
   "execution_count": null,
   "metadata": {},
   "outputs": [],
   "source": [
    "state.version"
   ]
  },
  {
   "cell_type": "code",
   "execution_count": null,
   "metadata": {},
   "outputs": [],
   "source": [
    "sorted_checks = sorted(\n",
    "    graph.checkpoint_storage._storage[graph.chain_id].values(),\n",
    "    key=lambda x: x[\"timestamp\"],\n",
    ")\n",
    "\n",
    "if sorted_checks:\n",
    "    print(\"x\")"
   ]
  },
  {
   "cell_type": "code",
   "execution_count": null,
   "metadata": {},
   "outputs": [],
   "source": [
    "graph.checkpoint_storage._storage.get(graph.chain_id, None)"
   ]
  },
  {
   "cell_type": "code",
   "execution_count": null,
   "metadata": {},
   "outputs": [],
   "source": [
    "print(graph.checkpoint_storage._get_last_stored_model_version(chain_id))"
   ]
  },
  {
   "cell_type": "code",
   "execution_count": null,
   "metadata": {},
   "outputs": [],
   "source": [
    "class TestState(GraphState):\n",
    "    value: LastValue[int]\n",
    "    text: History[list[str]]\n",
    "\n",
    "\n",
    "# Initialize\n",
    "state = TestState(value=42, text=\"asdf\")\n",
    "graph = Graph(state=state, checkpoint_storage=LocalStorage)\n",
    "\n",
    "# Save checkpoint\n",
    "checkpoint_id = graph.checkpoint_storage.save_checkpoint(state, graph.chain_id)\n",
    "\n",
    "# Load checkpoint\n",
    "loaded_state = graph.checkpoint_storage.load_checkpoint(\n",
    "    state, graph.chain_id, checkpoint_id\n",
    ")"
   ]
  }
 ],
 "metadata": {
  "kernelspec": {
   "display_name": "tiny-graph",
   "language": "python",
   "name": "python3"
  },
  "language_info": {
   "codemirror_mode": {
    "name": "ipython",
    "version": 3
   },
   "file_extension": ".py",
   "mimetype": "text/x-python",
   "name": "python",
   "nbconvert_exporter": "python",
   "pygments_lexer": "ipython3",
   "version": "3.11.10"
  }
 },
 "nbformat": 4,
 "nbformat_minor": 2
}
