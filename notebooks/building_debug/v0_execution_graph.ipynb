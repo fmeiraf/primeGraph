{
 "cells": [
  {
   "cell_type": "code",
   "execution_count": 1,
   "metadata": {},
   "outputs": [
    {
     "data": {
      "text/plain": [
       "<tiny_graph.graph.executable.Graph at 0x105f86750>"
      ]
     },
     "execution_count": 1,
     "metadata": {},
     "output_type": "execute_result"
    }
   ],
   "source": [
    "import sys\n",
    "import os\n",
    "\n",
    "sys.path.append(os.path.abspath(\"../..\"))\n",
    "\n",
    "\n",
    "from tiny_graph.graph.executable import Graph\n",
    "from tiny_graph.constants import START, END\n",
    "\n",
    "# Create a simple example graph\n",
    "simple_graph = Graph()\n",
    "\n",
    "\n",
    "# Define some example actions\n",
    "@simple_graph.node()\n",
    "def escape():\n",
    "    print(\"Starting workflow\")\n",
    "\n",
    "\n",
    "@simple_graph.node()\n",
    "def process_data():\n",
    "    print(\"Processing data\")\n",
    "\n",
    "\n",
    "@simple_graph.node()\n",
    "def validate():\n",
    "    print(\"Validating results\")\n",
    "\n",
    "\n",
    "@simple_graph.node()\n",
    "def aa():\n",
    "    print(\"Validating results\")\n",
    "\n",
    "\n",
    "@simple_graph.node()\n",
    "def bb():\n",
    "    print(\"Validating results\")\n",
    "\n",
    "\n",
    "@simple_graph.node()\n",
    "def dd():\n",
    "    print(\"Validating results\")\n",
    "\n",
    "\n",
    "@simple_graph.node()\n",
    "def cc():\n",
    "    print(\"Validating results\")\n",
    "\n",
    "\n",
    "@simple_graph.node()\n",
    "def hh():\n",
    "    print(\"Validating results\")\n",
    "\n",
    "\n",
    "@simple_graph.node()\n",
    "def prep():\n",
    "    print(\"Workflow complete\")\n",
    "\n",
    "\n",
    "# Add edges to create workflow\n",
    "simple_graph.add_edge(START, \"process_data\")\n",
    "simple_graph.add_edge(\"process_data\", \"validate\")\n",
    "simple_graph.add_edge(\"validate\", \"escape\")\n",
    "simple_graph.add_edge(\"escape\", \"dd\")\n",
    "simple_graph.add_edge(\"escape\", \"cc\")\n",
    "simple_graph.add_edge(\"cc\", \"hh\")\n",
    "simple_graph.add_edge(\"dd\", \"hh\")\n",
    "simple_graph.add_edge(\"hh\", \"prep\")\n",
    "simple_graph.add_edge(\"validate\", \"aa\")\n",
    "simple_graph.add_edge(\"aa\", \"bb\")\n",
    "simple_graph.add_edge(\"bb\", \"prep\")\n",
    "simple_graph.add_edge(\"prep\", END)\n",
    "\n",
    "# Visualize the simple_graph\n",
    "simple_graph.compile()"
   ]
  },
  {
   "cell_type": "code",
   "execution_count": 2,
   "metadata": {},
   "outputs": [
    {
     "data": {
      "text/html": [
       "<pre style=\"white-space:pre;overflow-x:auto;line-height:normal;font-family:Menlo,'DejaVu Sans Mono',consolas,'Courier New',monospace\"><span style=\"font-weight: bold\">[</span><span style=\"color: #008000; text-decoration-color: #008000\">'process_data'</span>, <span style=\"color: #008000; text-decoration-color: #008000\">'validate'</span>, <span style=\"font-weight: bold\">[[</span><span style=\"color: #008000; text-decoration-color: #008000\">'aa'</span>, <span style=\"color: #008000; text-decoration-color: #008000\">'bb'</span><span style=\"font-weight: bold\">]</span>, <span style=\"font-weight: bold\">[</span><span style=\"color: #008000; text-decoration-color: #008000\">'escape'</span>, <span style=\"font-weight: bold\">[</span><span style=\"color: #008000; text-decoration-color: #008000\">'cc'</span>, <span style=\"color: #008000; text-decoration-color: #008000\">'dd'</span><span style=\"font-weight: bold\">]</span>, <span style=\"color: #008000; text-decoration-color: #008000\">'hh'</span><span style=\"font-weight: bold\">]]</span>, <span style=\"color: #008000; text-decoration-color: #008000\">'prep'</span><span style=\"font-weight: bold\">]</span>\n",
       "</pre>\n"
      ],
      "text/plain": [
       "\u001b[1m[\u001b[0m\u001b[32m'process_data'\u001b[0m, \u001b[32m'validate'\u001b[0m, \u001b[1m[\u001b[0m\u001b[1m[\u001b[0m\u001b[32m'aa'\u001b[0m, \u001b[32m'bb'\u001b[0m\u001b[1m]\u001b[0m, \u001b[1m[\u001b[0m\u001b[32m'escape'\u001b[0m, \u001b[1m[\u001b[0m\u001b[32m'cc'\u001b[0m, \u001b[32m'dd'\u001b[0m\u001b[1m]\u001b[0m, \u001b[32m'hh'\u001b[0m\u001b[1m]\u001b[0m\u001b[1m]\u001b[0m, \u001b[32m'prep'\u001b[0m\u001b[1m]\u001b[0m\n"
      ]
     },
     "metadata": {},
     "output_type": "display_data"
    }
   ],
   "source": [
    "from rich import print as rprint\n",
    "\n",
    "rprint(simple_graph.execution_plan)"
   ]
  },
  {
   "cell_type": "code",
   "execution_count": 4,
   "metadata": {},
   "outputs": [
    {
     "data": {
      "text/html": [
       "<pre style=\"white-space:pre;overflow-x:auto;line-height:normal;font-family:Menlo,'DejaVu Sans Mono',consolas,'Courier New',monospace\"><span style=\"font-weight: bold\">[</span>\n",
       "    <span style=\"color: #008000; text-decoration-color: #008000\">'__start___to_process_data_1'</span>,\n",
       "    <span style=\"color: #008000; text-decoration-color: #008000\">'process_data_to_validate_1'</span>,\n",
       "    <span style=\"font-weight: bold\">[</span>\n",
       "        <span style=\"font-weight: bold\">[</span><span style=\"color: #008000; text-decoration-color: #008000\">'validate_to_aa_1'</span>, <span style=\"color: #008000; text-decoration-color: #008000\">'aa_to_bb_1'</span><span style=\"font-weight: bold\">]</span>,\n",
       "        <span style=\"font-weight: bold\">[</span><span style=\"color: #008000; text-decoration-color: #008000\">'validate_to_escape_1'</span>, <span style=\"font-weight: bold\">[</span><span style=\"color: #008000; text-decoration-color: #008000\">'escape_to_cc_1'</span>, <span style=\"color: #008000; text-decoration-color: #008000\">'escape_to_dd_1'</span><span style=\"font-weight: bold\">]</span>, <span style=\"font-weight: bold\">[</span><span style=\"color: #008000; text-decoration-color: #008000\">'cc_to_hh_1'</span>, <span style=\"color: #008000; text-decoration-color: #008000\">'dd_to_hh_1'</span><span style=\"font-weight: bold\">]]</span>\n",
       "    <span style=\"font-weight: bold\">]</span>,\n",
       "    <span style=\"font-weight: bold\">[</span><span style=\"color: #008000; text-decoration-color: #008000\">'hh_to_prep_1'</span>, <span style=\"color: #008000; text-decoration-color: #008000\">'bb_to_prep_1'</span><span style=\"font-weight: bold\">]</span>\n",
       "<span style=\"font-weight: bold\">]</span>\n",
       "</pre>\n"
      ],
      "text/plain": [
       "\u001b[1m[\u001b[0m\n",
       "    \u001b[32m'__start___to_process_data_1'\u001b[0m,\n",
       "    \u001b[32m'process_data_to_validate_1'\u001b[0m,\n",
       "    \u001b[1m[\u001b[0m\n",
       "        \u001b[1m[\u001b[0m\u001b[32m'validate_to_aa_1'\u001b[0m, \u001b[32m'aa_to_bb_1'\u001b[0m\u001b[1m]\u001b[0m,\n",
       "        \u001b[1m[\u001b[0m\u001b[32m'validate_to_escape_1'\u001b[0m, \u001b[1m[\u001b[0m\u001b[32m'escape_to_cc_1'\u001b[0m, \u001b[32m'escape_to_dd_1'\u001b[0m\u001b[1m]\u001b[0m, \u001b[1m[\u001b[0m\u001b[32m'cc_to_hh_1'\u001b[0m, \u001b[32m'dd_to_hh_1'\u001b[0m\u001b[1m]\u001b[0m\u001b[1m]\u001b[0m\n",
       "    \u001b[1m]\u001b[0m,\n",
       "    \u001b[1m[\u001b[0m\u001b[32m'hh_to_prep_1'\u001b[0m, \u001b[32m'bb_to_prep_1'\u001b[0m\u001b[1m]\u001b[0m\n",
       "\u001b[1m]\u001b[0m\n"
      ]
     },
     "metadata": {},
     "output_type": "display_data"
    }
   ],
   "source": [
    "rprint(simple_graph.execution_plan_with_edges)"
   ]
  },
  {
   "cell_type": "code",
   "execution_count": 27,
   "metadata": {},
   "outputs": [],
   "source": [
    "def find_all_edges_with_node(node_name):\n",
    "    edges = [edge.id for edge in simple_graph.edges if edge.end_node == node_name]\n",
    "    return edges if len(edges) > 1 else edges[0]\n",
    "\n",
    "\n",
    "def scan_execution_plan(execution_plan):\n",
    "    final_edge_plan = []\n",
    "    for step in execution_plan:\n",
    "        if isinstance(step, list):\n",
    "            nested_result = [\n",
    "                scan_execution_plan(node)\n",
    "                if isinstance(node, list)\n",
    "                else find_all_edges_with_node(node)\n",
    "                for node in step\n",
    "            ]\n",
    "\n",
    "            final_edge_plan.append(nested_result)\n",
    "        else:\n",
    "            result = find_all_edges_with_node(step)\n",
    "            final_edge_plan.append(result)\n",
    "\n",
    "    return final_edge_plan"
   ]
  },
  {
   "cell_type": "code",
   "execution_count": null,
   "metadata": {},
   "outputs": [],
   "source": [
    "rprint(scan_execution_plan(simple_graph.execution_plan))"
   ]
  },
  {
   "cell_type": "code",
   "execution_count": null,
   "metadata": {},
   "outputs": [],
   "source": [
    "for edge in simple_graph.edges:\n",
    "    print(f\"Edge ID: {edge.id}, End Node: {edge.end_node}\")"
   ]
  },
  {
   "cell_type": "code",
   "execution_count": null,
   "metadata": {},
   "outputs": [],
   "source": [
    "from rich import print as rprint\n",
    "\n",
    "rprint(simple_graph.execution_plan_with_edges)"
   ]
  },
  {
   "cell_type": "markdown",
   "metadata": {},
   "source": [
    "## Testing execution plan conversion\n"
   ]
  },
  {
   "cell_type": "code",
   "execution_count": null,
   "metadata": {},
   "outputs": [],
   "source": [
    "from rich import print as rprint\n",
    "\n",
    "rprint(simple_graph._convert_execution_plan())"
   ]
  },
  {
   "cell_type": "markdown",
   "metadata": {},
   "source": [
    "## Testing execution plan conversion\n"
   ]
  },
  {
   "cell_type": "code",
   "execution_count": null,
   "metadata": {},
   "outputs": [],
   "source": [
    "rprint(simple_graph.edges)"
   ]
  },
  {
   "cell_type": "code",
   "execution_count": null,
   "metadata": {},
   "outputs": [],
   "source": []
  }
 ],
 "metadata": {
  "kernelspec": {
   "display_name": "tiny-graph",
   "language": "python",
   "name": "python3"
  },
  "language_info": {
   "codemirror_mode": {
    "name": "ipython",
    "version": 3
   },
   "file_extension": ".py",
   "mimetype": "text/x-python",
   "name": "python",
   "nbconvert_exporter": "python",
   "pygments_lexer": "ipython3",
   "version": "3.11.10"
  }
 },
 "nbformat": 4,
 "nbformat_minor": 2
}
