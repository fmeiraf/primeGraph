{
 "cells": [
  {
   "cell_type": "markdown",
   "metadata": {},
   "source": [
    "# Test Run\n"
   ]
  },
  {
   "cell_type": "code",
   "execution_count": 39,
   "metadata": {},
   "outputs": [
    {
     "name": "stdout",
     "output_type": "stream",
     "text": [
      "The autoreload extension is already loaded. To reload it, use:\n",
      "  %reload_ext autoreload\n"
     ]
    }
   ],
   "source": [
    "# Load the autoreload extension\n",
    "%load_ext autoreload\n",
    "\n",
    "# Enable automatic reloading of modules\n",
    "%autoreload 2"
   ]
  },
  {
   "cell_type": "code",
   "execution_count": 51,
   "metadata": {},
   "outputs": [
    {
     "name": "stdout",
     "output_type": "stream",
     "text": [
      "Branch paths: {'process_data': ['escape'], 'escape': ['prep']}\n",
      "Main path: ['__start__', 'process_data', 'validate', 'prep', '__end__']\n",
      "All paths: [['__start__', 'process_data', 'validate', 'prep', '__end__'], ['__start__', 'process_data', 'escape', 'prep', '__end__']]\n"
     ]
    },
    {
     "name": "stderr",
     "output_type": "stream",
     "text": [
      "[autoreload of tiny_graph.graph.base failed: Traceback (most recent call last):\n",
      "  File \"/Users/fernandomeira/miniforge3/envs/tiny-graph/lib/python3.11/site-packages/IPython/extensions/autoreload.py\", line 276, in check\n",
      "    superreload(m, reload, self.old_objects)\n",
      "  File \"/Users/fernandomeira/miniforge3/envs/tiny-graph/lib/python3.11/site-packages/IPython/extensions/autoreload.py\", line 500, in superreload\n",
      "    update_generic(old_obj, new_obj)\n",
      "  File \"/Users/fernandomeira/miniforge3/envs/tiny-graph/lib/python3.11/site-packages/IPython/extensions/autoreload.py\", line 397, in update_generic\n",
      "    update(a, b)\n",
      "  File \"/Users/fernandomeira/miniforge3/envs/tiny-graph/lib/python3.11/site-packages/IPython/extensions/autoreload.py\", line 349, in update_class\n",
      "    if update_generic(old_obj, new_obj):\n",
      "       ^^^^^^^^^^^^^^^^^^^^^^^^^^^^^^^^\n",
      "  File \"/Users/fernandomeira/miniforge3/envs/tiny-graph/lib/python3.11/site-packages/IPython/extensions/autoreload.py\", line 397, in update_generic\n",
      "    update(a, b)\n",
      "  File \"/Users/fernandomeira/miniforge3/envs/tiny-graph/lib/python3.11/site-packages/IPython/extensions/autoreload.py\", line 309, in update_function\n",
      "    setattr(old, name, getattr(new, name))\n",
      "ValueError: __repr__() requires a code object with 1 free vars, not 2\n",
      "]\n"
     ]
    },
    {
     "data": {
      "text/plain": [
       "<tiny_graph.graph.base.Graph at 0x1072b0d10>"
      ]
     },
     "execution_count": 51,
     "metadata": {},
     "output_type": "execute_result"
    }
   ],
   "source": [
    "import sys\n",
    "import os\n",
    "\n",
    "sys.path.append(os.path.abspath(\"..\"))\n",
    "\n",
    "\n",
    "from tiny_graph.graph.base import Graph\n",
    "from tiny_graph.constants import START, END\n",
    "\n",
    "# Create a simple example graph\n",
    "graph = Graph()\n",
    "\n",
    "\n",
    "# Define some example actions\n",
    "@graph.node()\n",
    "def escape():\n",
    "    print(\"Starting workflow\")\n",
    "\n",
    "\n",
    "@graph.node()\n",
    "def process_data():\n",
    "    print(\"Processing data\")\n",
    "\n",
    "\n",
    "@graph.node()\n",
    "def validate():\n",
    "    print(\"Validating results\")\n",
    "\n",
    "\n",
    "@graph.node()\n",
    "def prep():\n",
    "    print(\"Workflow complete\")\n",
    "\n",
    "\n",
    "# Add edges to create workflow\n",
    "graph.add_edge(START, \"process_data\")\n",
    "graph.add_edge(\"process_data\", \"validate\")\n",
    "graph.add_edge(\"process_data\", \"escape\")\n",
    "graph.add_edge(\"escape\", \"prep\")\n",
    "graph.add_edge(\"validate\", \"prep\")\n",
    "graph.add_edge(\"prep\", END)\n",
    "\n",
    "# Visualize the graph\n",
    "graph.compile()"
   ]
  },
  {
   "cell_type": "code",
   "execution_count": 36,
   "metadata": {},
   "outputs": [],
   "source": [
    "graph.visualize()"
   ]
  },
  {
   "cell_type": "code",
   "execution_count": 52,
   "metadata": {},
   "outputs": [
    {
     "data": {
      "text/plain": [
       "['__start__', 'process_data', ['validate', 'escape'], 'prep', '__end__']"
      ]
     },
     "execution_count": 52,
     "metadata": {},
     "output_type": "execute_result"
    }
   ],
   "source": [
    "graph.execution_plan"
   ]
  },
  {
   "cell_type": "code",
   "execution_count": 34,
   "metadata": {},
   "outputs": [
    {
     "data": {
      "text/plain": [
       "['__start__', 'process_data', 'validate', 'prep', '__end__']"
      ]
     },
     "execution_count": 34,
     "metadata": {},
     "output_type": "execute_result"
    }
   ],
   "source": [
    "graph.main_path"
   ]
  },
  {
   "cell_type": "code",
   "execution_count": 25,
   "metadata": {},
   "outputs": [
    {
     "data": {
      "text/plain": [
       "{'process_data': ['escape'], 'escape': ['prep']}"
      ]
     },
     "execution_count": 25,
     "metadata": {},
     "output_type": "execute_result"
    }
   ],
   "source": [
    "graph.branch_paths"
   ]
  },
  {
   "cell_type": "code",
   "execution_count": 251,
   "metadata": {},
   "outputs": [
    {
     "name": "stdout",
     "output_type": "stream",
     "text": [
      "Branch paths: {'validate': ['bb'], 'bb': ['prep']}\n",
      "Main path: ['__start__', 'process_data', 'validate', 'escape', 'prep', '__end__']\n",
      "All paths: [['__start__', 'process_data', 'validate', 'escape', 'prep', '__end__'], ['__start__', 'process_data', 'validate', 'bb', 'prep', '__end__']]\n"
     ]
    },
    {
     "data": {
      "text/plain": [
       "['__start__', 'process_data', 'validate', ['escape', 'bb'], 'prep', '__end__']"
      ]
     },
     "execution_count": 251,
     "metadata": {},
     "output_type": "execute_result"
    }
   ],
   "source": [
    "# Create a simple example graph\n",
    "graph = Graph()\n",
    "\n",
    "\n",
    "# Define some example actions\n",
    "@graph.node()\n",
    "def escape():\n",
    "    print(\"Starting workflow\")\n",
    "\n",
    "\n",
    "@graph.node()\n",
    "def process_data():\n",
    "    print(\"Processing data\")\n",
    "\n",
    "\n",
    "@graph.node()\n",
    "def validate():\n",
    "    print(\"Validating results\")\n",
    "\n",
    "\n",
    "# @graph.node()\n",
    "# def aa():\n",
    "#     print(\"Validating results\")\n",
    "\n",
    "\n",
    "@graph.node()\n",
    "def bb():\n",
    "    print(\"Validating results\")\n",
    "\n",
    "\n",
    "@graph.node()\n",
    "def prep():\n",
    "    print(\"Workflow complete\")\n",
    "\n",
    "\n",
    "# Add edges to create workflow\n",
    "graph.add_edge(START, \"process_data\")\n",
    "graph.add_edge(\"process_data\", \"validate\")\n",
    "graph.add_edge(\"validate\", \"escape\")\n",
    "graph.add_edge(\"escape\", \"prep\")\n",
    "# graph.add_edge(\"validate\", \"aa\")\n",
    "# graph.add_edge(\"aa\", \"bb\")\n",
    "graph.add_edge(\"validate\", \"bb\")\n",
    "graph.add_edge(\"bb\", \"prep\")\n",
    "graph.add_edge(\"prep\", END)\n",
    "\n",
    "# Visualize the graph\n",
    "graph.compile()\n",
    "graph.execution_plan"
   ]
  },
  {
   "cell_type": "code",
   "execution_count": 252,
   "metadata": {},
   "outputs": [],
   "source": [
    "graph.visualize()"
   ]
  },
  {
   "cell_type": "code",
   "execution_count": 253,
   "metadata": {},
   "outputs": [
    {
     "name": "stdout",
     "output_type": "stream",
     "text": [
      "Branch paths: {'validate': ['escape'], 'escape': ['prep']}\n",
      "Main path: ['__start__', 'process_data', 'validate', 'aa', 'bb', 'prep', '__end__']\n",
      "All paths: [['__start__', 'process_data', 'validate', 'escape', 'prep', '__end__'], ['__start__', 'process_data', 'validate', 'aa', 'bb', 'prep', '__end__']]\n"
     ]
    },
    {
     "data": {
      "text/plain": [
       "['__start__', 'process_data', 'validate', ['aa', 'escape'], 'prep', '__end__']"
      ]
     },
     "execution_count": 253,
     "metadata": {},
     "output_type": "execute_result"
    }
   ],
   "source": [
    "# Create a simple example graph\n",
    "graph = Graph()\n",
    "\n",
    "\n",
    "# Define some example actions\n",
    "@graph.node()\n",
    "def escape():\n",
    "    print(\"Starting workflow\")\n",
    "\n",
    "\n",
    "@graph.node()\n",
    "def process_data():\n",
    "    print(\"Processing data\")\n",
    "\n",
    "\n",
    "@graph.node()\n",
    "def validate():\n",
    "    print(\"Validating results\")\n",
    "\n",
    "\n",
    "@graph.node()\n",
    "def aa():\n",
    "    print(\"Validating results\")\n",
    "\n",
    "\n",
    "@graph.node()\n",
    "def bb():\n",
    "    print(\"Validating results\")\n",
    "\n",
    "\n",
    "@graph.node()\n",
    "def prep():\n",
    "    print(\"Workflow complete\")\n",
    "\n",
    "\n",
    "# Add edges to create workflow\n",
    "graph.add_edge(START, \"process_data\")\n",
    "graph.add_edge(\"process_data\", \"validate\")\n",
    "graph.add_edge(\"validate\", \"escape\")\n",
    "graph.add_edge(\"escape\", \"prep\")\n",
    "graph.add_edge(\"validate\", \"aa\")\n",
    "graph.add_edge(\"aa\", \"bb\")\n",
    "graph.add_edge(\"bb\", \"prep\")\n",
    "graph.add_edge(\"prep\", END)\n",
    "\n",
    "# Visualize the graph\n",
    "graph.compile()\n",
    "graph.execution_plan"
   ]
  },
  {
   "cell_type": "code",
   "execution_count": 254,
   "metadata": {},
   "outputs": [],
   "source": [
    "graph.visualize()"
   ]
  },
  {
   "cell_type": "code",
   "execution_count": 255,
   "metadata": {},
   "outputs": [
    {
     "name": "stdout",
     "output_type": "stream",
     "text": [
      "Branch paths: {'escape': ['dd'], 'validate': ['aa'], 'dd': ['hh'], 'bb': ['prep']}\n",
      "Main path: ['__start__', 'process_data', 'validate', 'escape', 'cc', 'hh', 'prep', '__end__']\n",
      "All paths: [['__start__', 'process_data', 'validate', 'escape', 'cc', 'hh', 'prep', '__end__'], ['__start__', 'process_data', 'validate', 'escape', 'dd', 'hh', 'prep', '__end__'], ['__start__', 'process_data', 'validate', 'aa', 'bb', 'prep', '__end__']]\n"
     ]
    },
    {
     "data": {
      "text/plain": [
       "['__start__',\n",
       " 'process_data',\n",
       " 'validate',\n",
       " ['escape', 'aa', 'bb'],\n",
       " 'prep',\n",
       " '__end__']"
      ]
     },
     "execution_count": 255,
     "metadata": {},
     "output_type": "execute_result"
    }
   ],
   "source": [
    "# Create a simple example graph\n",
    "graph = Graph()\n",
    "\n",
    "\n",
    "# Define some example actions\n",
    "@graph.node()\n",
    "def escape():\n",
    "    print(\"Starting workflow\")\n",
    "\n",
    "\n",
    "@graph.node()\n",
    "def process_data():\n",
    "    print(\"Processing data\")\n",
    "\n",
    "\n",
    "@graph.node()\n",
    "def validate():\n",
    "    print(\"Validating results\")\n",
    "\n",
    "\n",
    "@graph.node()\n",
    "def aa():\n",
    "    print(\"Validating results\")\n",
    "\n",
    "\n",
    "@graph.node()\n",
    "def bb():\n",
    "    print(\"Validating results\")\n",
    "\n",
    "\n",
    "@graph.node()\n",
    "def dd():\n",
    "    print(\"Validating results\")\n",
    "\n",
    "\n",
    "@graph.node()\n",
    "def cc():\n",
    "    print(\"Validating results\")\n",
    "\n",
    "\n",
    "@graph.node()\n",
    "def hh():\n",
    "    print(\"Validating results\")\n",
    "\n",
    "\n",
    "@graph.node()\n",
    "def prep():\n",
    "    print(\"Workflow complete\")\n",
    "\n",
    "\n",
    "# Add edges to create workflow\n",
    "graph.add_edge(START, \"process_data\")\n",
    "graph.add_edge(\"process_data\", \"validate\")\n",
    "graph.add_edge(\"validate\", \"escape\")\n",
    "graph.add_edge(\"escape\", \"dd\")\n",
    "graph.add_edge(\"escape\", \"cc\")\n",
    "graph.add_edge(\"cc\", \"hh\")\n",
    "graph.add_edge(\"dd\", \"hh\")\n",
    "graph.add_edge(\"hh\", \"prep\")\n",
    "graph.add_edge(\"validate\", \"aa\")\n",
    "graph.add_edge(\"aa\", \"bb\")\n",
    "graph.add_edge(\"bb\", \"prep\")\n",
    "graph.add_edge(\"prep\", END)\n",
    "\n",
    "# Visualize the graph\n",
    "graph.compile()\n",
    "graph.execution_plan"
   ]
  },
  {
   "cell_type": "code",
   "execution_count": 239,
   "metadata": {},
   "outputs": [],
   "source": [
    "graph.visualize()"
   ]
  },
  {
   "cell_type": "code",
   "execution_count": 250,
   "metadata": {},
   "outputs": [
    {
     "data": {
      "text/plain": [
       "['__start__',\n",
       " 'process_data',\n",
       " 'validate',\n",
       " ['escape', 'aa', 'bb'],\n",
       " 'prep',\n",
       " '__end__']"
      ]
     },
     "execution_count": 250,
     "metadata": {},
     "output_type": "execute_result"
    }
   ],
   "source": [
    "graph.execution_plan"
   ]
  },
  {
   "cell_type": "code",
   "execution_count": null,
   "metadata": {},
   "outputs": [],
   "source": []
  },
  {
   "cell_type": "code",
   "execution_count": null,
   "metadata": {},
   "outputs": [],
   "source": []
  },
  {
   "cell_type": "code",
   "execution_count": null,
   "metadata": {},
   "outputs": [],
   "source": []
  },
  {
   "cell_type": "markdown",
   "metadata": {},
   "source": [
    "# Concurrency testing\n"
   ]
  },
  {
   "cell_type": "code",
   "execution_count": null,
   "metadata": {},
   "outputs": [],
   "source": [
    "from threading import Lock\n",
    "import threading\n",
    "import time\n",
    "\n",
    "\n",
    "class Counter:\n",
    "    def __init__(self):\n",
    "        self.count = 0\n",
    "        self.lock = Lock()\n",
    "\n",
    "    def increment_unsafe(self):\n",
    "        # This method is not thread-safe\n",
    "        current = self.count\n",
    "        time.sleep(0.1)  # Simulate some work\n",
    "        self.count = current + 1\n",
    "\n",
    "    def increment_safe(self):\n",
    "        # This method is thread-safe\n",
    "        with self.lock:\n",
    "            current = self.count\n",
    "            time.sleep(0.1)  # Simulate some work\n",
    "            self.count = current + 1\n",
    "\n",
    "\n",
    "# Demo of race condition\n",
    "def demo():\n",
    "    counter = Counter()\n",
    "    threads = []\n",
    "\n",
    "    # Create 5 threads that increment unsafe\n",
    "    for _ in range(5):\n",
    "        t = threading.Thread(target=counter.increment_unsafe)\n",
    "        threads.append(t)\n",
    "        t.start()\n",
    "\n",
    "    # Wait for all threads to complete\n",
    "    for t in threads:\n",
    "        t.join()\n",
    "\n",
    "    print(f\"Unsafe count should be 5, but is: {counter.count}\")\n",
    "\n",
    "    # Reset counter\n",
    "    counter.count = 0\n",
    "    threads = []\n",
    "\n",
    "    # Create 5 threads that increment safe\n",
    "    for _ in range(5):\n",
    "        t = threading.Thread(target=counter.increment_safe)\n",
    "        threads.append(t)\n",
    "        t.start()\n",
    "\n",
    "    # Wait for all threads to complete\n",
    "    for t in threads:\n",
    "        t.join()\n",
    "\n",
    "    print(f\"Safe count is correctly: {counter.count}\")\n",
    "\n",
    "\n",
    "demo()"
   ]
  },
  {
   "cell_type": "code",
   "execution_count": null,
   "metadata": {},
   "outputs": [],
   "source": [
    "from typing import NamedTuple, Annotated\n",
    "from pydantic import BaseModel\n",
    "\n",
    "\n",
    "# Using NamedTuple\n",
    "class PersonTuple(NamedTuple):\n",
    "    name: str\n",
    "    age: int\n",
    "    city: str\n",
    "    testing_list: Annotated[list[str], int]\n",
    "\n",
    "\n",
    "# Using Pydantic\n",
    "class PersonPydantic(BaseModel):\n",
    "    name: str\n",
    "    age: int\n",
    "    city: str\n",
    "\n",
    "\n",
    "# Create sample instances\n",
    "person_tuple = PersonTuple(\n",
    "    name=\"John Doe\", age=30, city=\"New York\", testing_list=[\"a\", \"b\", \"c\"]\n",
    ")\n",
    "person_pydantic = PersonPydantic(name=\"Jane Doe\", age=25, city=\"Boston\")\n",
    "\n",
    "print(\"NamedTuple Person:\")\n",
    "print(person_tuple)\n",
    "print(\"\\nPydantic Person:\")\n",
    "print(person_pydantic)"
   ]
  },
  {
   "cell_type": "code",
   "execution_count": null,
   "metadata": {},
   "outputs": [],
   "source": [
    "# ... existing PersonTuple and PersonPydantic definitions ...\n",
    "\n",
    "# Get schema for NamedTuple\n",
    "print(\"NamedTuple Schema:\")\n",
    "print(PersonTuple.__annotations__)  # Shows types of fields\n",
    "print(PersonTuple._fields)  # Shows field names\n",
    "\n",
    "# Get schema for Pydantic\n",
    "print(\"\\nPydantic Schema:\")\n",
    "print(PersonPydantic.model_json_schema())  # Full JSON schema\n",
    "# For a simpler view of fields and types:\n",
    "print(\"\\nPydantic Fields:\")\n",
    "print(PersonPydantic.model_fields)\n",
    "pydantic_schema = {\n",
    "    field_name: field_info.annotation\n",
    "    for field_name, field_info in PersonPydantic.model_fields.items()\n",
    "}\n",
    "print(pydantic_schema)"
   ]
  },
  {
   "cell_type": "code",
   "execution_count": null,
   "metadata": {},
   "outputs": [],
   "source": [
    "PersonTuple.__annotations__[\"testing_list\"]"
   ]
  },
  {
   "cell_type": "code",
   "execution_count": null,
   "metadata": {},
   "outputs": [],
   "source": []
  },
  {
   "cell_type": "code",
   "execution_count": null,
   "metadata": {},
   "outputs": [],
   "source": []
  },
  {
   "cell_type": "code",
   "execution_count": null,
   "metadata": {},
   "outputs": [],
   "source": []
  },
  {
   "cell_type": "code",
   "execution_count": null,
   "metadata": {},
   "outputs": [],
   "source": []
  }
 ],
 "metadata": {
  "kernelspec": {
   "display_name": "tiny_graph",
   "language": "python",
   "name": "python3"
  },
  "language_info": {
   "codemirror_mode": {
    "name": "ipython",
    "version": 3
   },
   "file_extension": ".py",
   "mimetype": "text/x-python",
   "name": "python",
   "nbconvert_exporter": "python",
   "pygments_lexer": "ipython3",
   "version": "3.11.10"
  }
 },
 "nbformat": 4,
 "nbformat_minor": 2
}
