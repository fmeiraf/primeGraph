{
 "cells": [
  {
   "cell_type": "markdown",
   "metadata": {},
   "source": [
    "# Test Run\n"
   ]
  },
  {
   "cell_type": "code",
   "execution_count": 2,
   "metadata": {},
   "outputs": [
    {
     "name": "stdout",
     "output_type": "stream",
     "text": [
      "The autoreload extension is already loaded. To reload it, use:\n",
      "  %reload_ext autoreload\n"
     ]
    }
   ],
   "source": [
    "# Load the autoreload extension\n",
    "%load_ext autoreload\n",
    "\n",
    "# Enable automatic reloading of modules\n",
    "%autoreload 2\n",
    "\n",
    "import sys\n",
    "import os\n",
    "\n",
    "sys.path.append(os.path.abspath(\"..\"))\n",
    "\n",
    "\n",
    "from tiny_graph.graph.base import Graph\n",
    "from tiny_graph.constants import START, END\n",
    "\n",
    "# Create a simple example graph\n",
    "graph = Graph()\n",
    "\n",
    "\n",
    "# Define some example actions\n",
    "def start_action():\n",
    "    print(\"Starting workflow\")\n",
    "\n",
    "\n",
    "def process_data():\n",
    "    print(\"Processing data\")\n",
    "\n",
    "\n",
    "def validate():\n",
    "    print(\"Validating results\")\n",
    "\n",
    "\n",
    "def end_action():\n",
    "    print(\"Workflow complete\")\n",
    "\n",
    "\n",
    "# Add nodes to graph\n",
    "graph.add_node(\"process\", process_data)\n",
    "graph.add_node(\"validate\", validate)\n",
    "\n",
    "# Add edges to create workflow\n",
    "graph.add_edge(START, \"process\")\n",
    "graph.add_edge(\"process\", \"validate\")\n",
    "graph.add_edge(\"validate\", END)\n",
    "\n",
    "# Visualize the graph\n",
    "graph.visualize(\"example_workflow\")"
   ]
  },
  {
   "cell_type": "markdown",
   "metadata": {},
   "source": [
    "# Concurrency testing\n"
   ]
  },
  {
   "cell_type": "code",
   "execution_count": 3,
   "metadata": {},
   "outputs": [
    {
     "name": "stdout",
     "output_type": "stream",
     "text": [
      "Unsafe count should be 5, but is: 1\n",
      "Safe count is correctly: 5\n"
     ]
    }
   ],
   "source": [
    "from threading import Lock\n",
    "import threading\n",
    "import time\n",
    "\n",
    "\n",
    "class Counter:\n",
    "    def __init__(self):\n",
    "        self.count = 0\n",
    "        self.lock = Lock()\n",
    "\n",
    "    def increment_unsafe(self):\n",
    "        # This method is not thread-safe\n",
    "        current = self.count\n",
    "        time.sleep(0.1)  # Simulate some work\n",
    "        self.count = current + 1\n",
    "\n",
    "    def increment_safe(self):\n",
    "        # This method is thread-safe\n",
    "        with self.lock:\n",
    "            current = self.count\n",
    "            time.sleep(0.1)  # Simulate some work\n",
    "            self.count = current + 1\n",
    "\n",
    "\n",
    "# Demo of race condition\n",
    "def demo():\n",
    "    counter = Counter()\n",
    "    threads = []\n",
    "\n",
    "    # Create 5 threads that increment unsafe\n",
    "    for _ in range(5):\n",
    "        t = threading.Thread(target=counter.increment_unsafe)\n",
    "        threads.append(t)\n",
    "        t.start()\n",
    "\n",
    "    # Wait for all threads to complete\n",
    "    for t in threads:\n",
    "        t.join()\n",
    "\n",
    "    print(f\"Unsafe count should be 5, but is: {counter.count}\")\n",
    "\n",
    "    # Reset counter\n",
    "    counter.count = 0\n",
    "    threads = []\n",
    "\n",
    "    # Create 5 threads that increment safe\n",
    "    for _ in range(5):\n",
    "        t = threading.Thread(target=counter.increment_safe)\n",
    "        threads.append(t)\n",
    "        t.start()\n",
    "\n",
    "    # Wait for all threads to complete\n",
    "    for t in threads:\n",
    "        t.join()\n",
    "\n",
    "    print(f\"Safe count is correctly: {counter.count}\")\n",
    "\n",
    "\n",
    "demo()"
   ]
  },
  {
   "cell_type": "code",
   "execution_count": 23,
   "metadata": {},
   "outputs": [
    {
     "name": "stdout",
     "output_type": "stream",
     "text": [
      "NamedTuple Person:\n",
      "PersonTuple(name='John Doe', age=30, city='New York', testing_list=['a', 'b', 'c'])\n",
      "\n",
      "Pydantic Person:\n",
      "name='Jane Doe' age=25 city='Boston'\n"
     ]
    }
   ],
   "source": [
    "from typing import NamedTuple, Annotated\n",
    "from pydantic import BaseModel\n",
    "\n",
    "\n",
    "# Using NamedTuple\n",
    "class PersonTuple(NamedTuple):\n",
    "    name: str\n",
    "    age: int\n",
    "    city: str\n",
    "    testing_list: Annotated[list[str], int]\n",
    "\n",
    "\n",
    "# Using Pydantic\n",
    "class PersonPydantic(BaseModel):\n",
    "    name: str\n",
    "    age: int\n",
    "    city: str\n",
    "\n",
    "\n",
    "# Create sample instances\n",
    "person_tuple = PersonTuple(\n",
    "    name=\"John Doe\", age=30, city=\"New York\", testing_list=[\"a\", \"b\", \"c\"]\n",
    ")\n",
    "person_pydantic = PersonPydantic(name=\"Jane Doe\", age=25, city=\"Boston\")\n",
    "\n",
    "print(\"NamedTuple Person:\")\n",
    "print(person_tuple)\n",
    "print(\"\\nPydantic Person:\")\n",
    "print(person_pydantic)"
   ]
  },
  {
   "cell_type": "code",
   "execution_count": 24,
   "metadata": {},
   "outputs": [
    {
     "name": "stdout",
     "output_type": "stream",
     "text": [
      "NamedTuple Schema:\n",
      "{'name': <class 'str'>, 'age': <class 'int'>, 'city': <class 'str'>, 'testing_list': typing.Annotated[list[str], <class 'int'>]}\n",
      "('name', 'age', 'city', 'testing_list')\n",
      "\n",
      "Pydantic Schema:\n",
      "{'properties': {'name': {'title': 'Name', 'type': 'string'}, 'age': {'title': 'Age', 'type': 'integer'}, 'city': {'title': 'City', 'type': 'string'}}, 'required': ['name', 'age', 'city'], 'title': 'PersonPydantic', 'type': 'object'}\n",
      "\n",
      "Pydantic Fields:\n",
      "{'name': FieldInfo(annotation=str, required=True), 'age': FieldInfo(annotation=int, required=True), 'city': FieldInfo(annotation=str, required=True)}\n",
      "{'name': <class 'str'>, 'age': <class 'int'>, 'city': <class 'str'>}\n"
     ]
    }
   ],
   "source": [
    "# ... existing PersonTuple and PersonPydantic definitions ...\n",
    "\n",
    "# Get schema for NamedTuple\n",
    "print(\"NamedTuple Schema:\")\n",
    "print(PersonTuple.__annotations__)  # Shows types of fields\n",
    "print(PersonTuple._fields)  # Shows field names\n",
    "\n",
    "# Get schema for Pydantic\n",
    "print(\"\\nPydantic Schema:\")\n",
    "print(PersonPydantic.model_json_schema())  # Full JSON schema\n",
    "# For a simpler view of fields and types:\n",
    "print(\"\\nPydantic Fields:\")\n",
    "print(PersonPydantic.model_fields)\n",
    "pydantic_schema = {\n",
    "    field_name: field_info.annotation\n",
    "    for field_name, field_info in PersonPydantic.model_fields.items()\n",
    "}\n",
    "print(pydantic_schema)"
   ]
  },
  {
   "cell_type": "code",
   "execution_count": 27,
   "metadata": {},
   "outputs": [
    {
     "data": {
      "text/plain": [
       "typing.Annotated[list[str], <class 'int'>]"
      ]
     },
     "execution_count": 27,
     "metadata": {},
     "output_type": "execute_result"
    }
   ],
   "source": [
    "PersonTuple.__annotations__[\"testing_list\"]"
   ]
  },
  {
   "cell_type": "code",
   "execution_count": null,
   "metadata": {},
   "outputs": [],
   "source": []
  },
  {
   "cell_type": "code",
   "execution_count": null,
   "metadata": {},
   "outputs": [],
   "source": []
  },
  {
   "cell_type": "code",
   "execution_count": null,
   "metadata": {},
   "outputs": [],
   "source": []
  },
  {
   "cell_type": "code",
   "execution_count": null,
   "metadata": {},
   "outputs": [],
   "source": []
  }
 ],
 "metadata": {
  "kernelspec": {
   "display_name": "tiny_graph",
   "language": "python",
   "name": "python3"
  },
  "language_info": {
   "codemirror_mode": {
    "name": "ipython",
    "version": 3
   },
   "file_extension": ".py",
   "mimetype": "text/x-python",
   "name": "python",
   "nbconvert_exporter": "python",
   "pygments_lexer": "ipython3",
   "version": "3.11.10"
  }
 },
 "nbformat": 4,
 "nbformat_minor": 2
}
