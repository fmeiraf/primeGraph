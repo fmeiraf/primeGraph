{
 "cells": [
  {
   "cell_type": "code",
   "execution_count": 4,
   "metadata": {},
   "outputs": [],
   "source": [
    "import sys\n",
    "import os\n",
    "\n",
    "sys.path.append(os.path.abspath(\"..\"))\n",
    "\n",
    "\n",
    "from tiny_graph.graph.graph import Graph\n",
    "from tiny_graph.constants import START, END\n",
    "\n",
    "# Create a simple example graph\n",
    "graph = Graph()\n",
    "\n",
    "\n",
    "# Define some example actions\n",
    "def start_action():\n",
    "    print(\"Starting workflow\")\n",
    "\n",
    "\n",
    "def process_data():\n",
    "    print(\"Processing data\")\n",
    "\n",
    "\n",
    "def validate():\n",
    "    print(\"Validating results\")\n",
    "\n",
    "\n",
    "def end_action():\n",
    "    print(\"Workflow complete\")\n",
    "\n",
    "\n",
    "# Add nodes to graph\n",
    "graph.add_node(\"process\", process_data)\n",
    "graph.add_node(\"validate\", validate)\n",
    "\n",
    "# Add edges to create workflow\n",
    "graph.add_edge(START, \"process\")\n",
    "graph.add_edge(\"process\", \"validate\")\n",
    "graph.add_edge(\"validate\", END)\n",
    "\n",
    "# Visualize the graph\n",
    "graph.visualize(\"example_workflow\")"
   ]
  },
  {
   "cell_type": "code",
   "execution_count": null,
   "metadata": {},
   "outputs": [],
   "source": []
  },
  {
   "cell_type": "code",
   "execution_count": null,
   "metadata": {},
   "outputs": [],
   "source": []
  }
 ],
 "metadata": {
  "kernelspec": {
   "display_name": "tiny_graph",
   "language": "python",
   "name": "python3"
  },
  "language_info": {
   "codemirror_mode": {
    "name": "ipython",
    "version": 3
   },
   "file_extension": ".py",
   "mimetype": "text/x-python",
   "name": "python",
   "nbconvert_exporter": "python",
   "pygments_lexer": "ipython3",
   "version": "3.11.10"
  }
 },
 "nbformat": 4,
 "nbformat_minor": 2
}
